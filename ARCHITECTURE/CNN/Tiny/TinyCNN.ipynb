{
  "cells": [
    {
      "attachments": {},
      "cell_type": "markdown",
      "metadata": {
        "id": "mnMdF1zSk4TK"
      },
      "source": [
        "## Front Matter\n",
        "I want the Notebook to be as informative as possible, but model creating and training process follows some standard procedure that I do not want to repeat. Therefore, if you can, spend time reading the `PROLOGUE/Routine.ipynb` Notebook first."
      ]
    },
    {
      "cell_type": "markdown",
      "metadata": {
        "id": "QlNLsMuEjmcV"
      },
      "source": [
        "# Convolutional Neural Network - Tiny (TinyCNN)\n",
        "CNN is a great class of model architecture inspired by the human biological eyes and particularly suited for computer vision task. The essential difference of CNN model is the introduction of two new operation: \"convolution\" and \"max-pooling\", respectively `nn.Conv2d()` and `nn.MaxPool2d()` in PyTorch. Let's explore them first.\n",
        "\n",
        "To begin, let's finish installing and importing all the necessary modules as we need some example data."
      ]
    },
    {
      "cell_type": "code",
      "execution_count": 1,
      "metadata": {
        "colab": {
          "base_uri": "https://localhost:8080/"
        },
        "id": "iuGrAPRxO__w",
        "outputId": "818905fc-3bdb-4e42-f1e1-0e448be8acb3"
      },
      "outputs": [
        {
          "name": "stdout",
          "output_type": "stream",
          "text": [
            "Looking in indexes: https://pypi.org/simple, https://us-python.pkg.dev/colab-wheels/public/simple/\n",
            "Requirement already satisfied: torchmetrics in /usr/local/lib/python3.8/dist-packages (0.11.0)\n",
            "Requirement already satisfied: typing-extensions in /usr/local/lib/python3.8/dist-packages (from torchmetrics) (4.4.0)\n",
            "Requirement already satisfied: packaging in /usr/local/lib/python3.8/dist-packages (from torchmetrics) (21.3)\n",
            "Requirement already satisfied: torch>=1.8.1 in /usr/local/lib/python3.8/dist-packages (from torchmetrics) (1.13.0+cu116)\n",
            "Requirement already satisfied: numpy>=1.17.2 in /usr/local/lib/python3.8/dist-packages (from torchmetrics) (1.21.6)\n",
            "Requirement already satisfied: pyparsing!=3.0.5,>=2.0.2 in /usr/local/lib/python3.8/dist-packages (from packaging->torchmetrics) (3.0.9)\n"
          ]
        }
      ],
      "source": [
        "!pip install torchmetrics"
      ]
    },
    {
      "cell_type": "code",
      "execution_count": 2,
      "metadata": {
        "colab": {
          "base_uri": "https://localhost:8080/"
        },
        "id": "jykHIRRRPIB3",
        "outputId": "31280b1d-6ee6-4225-b7ba-5da99e340249"
      },
      "outputs": [
        {
          "name": "stdout",
          "output_type": "stream",
          "text": [
            "Looking in indexes: https://pypi.org/simple, https://us-python.pkg.dev/colab-wheels/public/simple/\n",
            "Requirement already satisfied: mlxtend in /usr/local/lib/python3.8/dist-packages (0.14.0)\n",
            "Collecting mlxtend\n",
            "  Downloading mlxtend-0.21.0-py2.py3-none-any.whl (1.3 MB)\n",
            "\u001b[K     |████████████████████████████████| 1.3 MB 36.4 MB/s \n",
            "\u001b[?25hRequirement already satisfied: setuptools in /usr/local/lib/python3.8/dist-packages (from mlxtend) (57.4.0)\n",
            "Requirement already satisfied: matplotlib>=3.0.0 in /usr/local/lib/python3.8/dist-packages (from mlxtend) (3.2.2)\n",
            "Requirement already satisfied: numpy>=1.16.2 in /usr/local/lib/python3.8/dist-packages (from mlxtend) (1.21.6)\n",
            "Requirement already satisfied: scipy>=1.2.1 in /usr/local/lib/python3.8/dist-packages (from mlxtend) (1.7.3)\n",
            "Requirement already satisfied: joblib>=0.13.2 in /usr/local/lib/python3.8/dist-packages (from mlxtend) (1.2.0)\n",
            "Requirement already satisfied: pandas>=0.24.2 in /usr/local/lib/python3.8/dist-packages (from mlxtend) (1.3.5)\n",
            "Requirement already satisfied: scikit-learn>=1.0.2 in /usr/local/lib/python3.8/dist-packages (from mlxtend) (1.0.2)\n",
            "Requirement already satisfied: cycler>=0.10 in /usr/local/lib/python3.8/dist-packages (from matplotlib>=3.0.0->mlxtend) (0.11.0)\n",
            "Requirement already satisfied: pyparsing!=2.0.4,!=2.1.2,!=2.1.6,>=2.0.1 in /usr/local/lib/python3.8/dist-packages (from matplotlib>=3.0.0->mlxtend) (3.0.9)\n",
            "Requirement already satisfied: python-dateutil>=2.1 in /usr/local/lib/python3.8/dist-packages (from matplotlib>=3.0.0->mlxtend) (2.8.2)\n",
            "Requirement already satisfied: kiwisolver>=1.0.1 in /usr/local/lib/python3.8/dist-packages (from matplotlib>=3.0.0->mlxtend) (1.4.4)\n",
            "Requirement already satisfied: pytz>=2017.3 in /usr/local/lib/python3.8/dist-packages (from pandas>=0.24.2->mlxtend) (2022.6)\n",
            "Requirement already satisfied: six>=1.5 in /usr/local/lib/python3.8/dist-packages (from python-dateutil>=2.1->matplotlib>=3.0.0->mlxtend) (1.15.0)\n",
            "Requirement already satisfied: threadpoolctl>=2.0.0 in /usr/local/lib/python3.8/dist-packages (from scikit-learn>=1.0.2->mlxtend) (3.1.0)\n",
            "Installing collected packages: mlxtend\n",
            "  Attempting uninstall: mlxtend\n",
            "    Found existing installation: mlxtend 0.14.0\n",
            "    Uninstalling mlxtend-0.14.0:\n",
            "      Successfully uninstalled mlxtend-0.14.0\n",
            "Successfully installed mlxtend-0.21.0\n"
          ]
        }
      ],
      "source": [
        "!pip install --upgrade mlxtend"
      ]
    },
    {
      "cell_type": "code",
      "execution_count": 3,
      "metadata": {
        "id": "YbrKwLXLN1pE"
      },
      "outputs": [],
      "source": [
        "from torch import nn\n",
        "import torch\n",
        "from torch.utils.data import DataLoader\n",
        "\n",
        "import torchvision\n",
        "from torchvision import datasets\n",
        "from torchvision.transforms import ToTensor\n",
        "\n",
        "from torchmetrics import ConfusionMatrix, Accuracy\n",
        "from mlxtend.plotting import plot_confusion_matrix\n",
        "\n",
        "\n",
        "# Import tqdm for progress bar\n",
        "from tqdm.auto import tqdm\n",
        "import matplotlib.pyplot as plt\n"
      ]
    },
    {
      "cell_type": "code",
      "execution_count": 4,
      "metadata": {
        "id": "iPx8LOYzPlZQ"
      },
      "outputs": [],
      "source": [
        "train_data = datasets.KMNIST(root='data',\n",
        "                                   transform=ToTensor(),\n",
        "                                   download=True)\n",
        "test_data = datasets.KMNIST(root='data',\n",
        "                                  transform=ToTensor(),\n",
        "                                  download=True,\n",
        "                                  train=False)"
      ]
    },
    {
      "cell_type": "code",
      "execution_count": 5,
      "metadata": {
        "colab": {
          "base_uri": "https://localhost:8080/"
        },
        "id": "lsqwXV_JPkdd",
        "outputId": "06ed8c1e-b92d-45dd-b530-61f04a48f88f"
      },
      "outputs": [
        {
          "data": {
            "text/plain": [
              "(tensor([[[0.0000, 0.0000, 0.0000, 0.0000, 0.0000, 0.0000, 0.0000, 0.0000,\n",
              "           0.0000, 0.0000, 0.0000, 0.0000, 0.0000, 0.0000, 0.0000, 0.0000,\n",
              "           0.0000, 0.0000, 0.0000, 0.0000, 0.0000, 0.0000, 0.0000, 0.0000,\n",
              "           0.0000, 0.0000, 0.0000, 0.0000],\n",
              "          [0.0000, 0.0000, 0.0000, 0.0000, 0.0000, 0.0000, 0.0000, 0.0000,\n",
              "           0.0000, 0.0000, 0.0000, 0.0000, 0.0000, 0.0000, 0.0000, 0.0000,\n",
              "           0.0000, 0.0000, 0.0000, 0.0000, 0.0000, 0.0000, 0.0000, 0.0000,\n",
              "           0.0000, 0.0000, 0.0000, 0.0000],\n",
              "          [0.0000, 0.0000, 0.0000, 0.0000, 0.0000, 0.0000, 0.0000, 0.0000,\n",
              "           0.0000, 0.0000, 0.0000, 0.0000, 0.0000, 0.0000, 0.0000, 0.0000,\n",
              "           0.0000, 0.0000, 0.0000, 0.0000, 0.0000, 0.0000, 0.0000, 0.0000,\n",
              "           0.0000, 0.0000, 0.0000, 0.0000],\n",
              "          [0.0000, 0.0000, 0.0000, 0.0000, 0.0000, 0.0000, 0.0000, 0.0000,\n",
              "           0.0000, 0.0000, 0.0000, 0.0000, 0.0000, 0.0000, 0.0000, 0.0000,\n",
              "           0.0000, 0.0000, 0.0000, 0.0000, 0.0000, 0.0000, 0.0000, 0.0000,\n",
              "           0.0000, 0.0000, 0.0000, 0.0000],\n",
              "          [0.0000, 0.0000, 0.0000, 0.0000, 0.0000, 0.0000, 0.0000, 0.0000,\n",
              "           0.0000, 0.0000, 0.0000, 0.0000, 0.0000, 0.0000, 0.0000, 0.0000,\n",
              "           0.0000, 0.0000, 0.0000, 0.0000, 0.0000, 0.0000, 0.0000, 0.0000,\n",
              "           0.0000, 0.0000, 0.0000, 0.0000],\n",
              "          [0.0000, 0.0000, 0.0000, 0.0000, 0.0000, 0.0000, 0.0000, 0.0000,\n",
              "           0.0000, 0.0000, 0.0000, 0.0000, 0.0000, 0.0000, 0.0000, 0.0000,\n",
              "           0.0000, 0.0000, 0.0000, 0.0000, 0.0000, 0.0000, 0.0000, 0.0000,\n",
              "           0.0000, 0.0000, 0.0000, 0.0000],\n",
              "          [0.0000, 0.0000, 0.0000, 0.0000, 0.0000, 0.0000, 0.0000, 0.0000,\n",
              "           0.0000, 0.0000, 0.0000, 0.0000, 0.0039, 0.5255, 0.6353, 0.6078,\n",
              "           0.1922, 0.0000, 0.2471, 0.3490, 0.0000, 0.0000, 0.0000, 0.0000,\n",
              "           0.0000, 0.0000, 0.0000, 0.0000],\n",
              "          [0.0000, 0.0000, 0.0000, 0.0000, 0.0000, 0.0000, 0.0000, 0.0000,\n",
              "           0.0000, 0.0000, 0.0000, 0.0275, 0.4706, 0.9922, 0.9804, 0.5059,\n",
              "           0.0000, 0.0000, 0.0000, 0.0000, 0.0000, 0.0000, 0.0000, 0.0000,\n",
              "           0.0000, 0.0000, 0.0000, 0.0000],\n",
              "          [0.0000, 0.0000, 0.0000, 0.0000, 0.0000, 0.0000, 0.0000, 0.0000,\n",
              "           0.0000, 0.0000, 0.0000, 0.3020, 0.9882, 0.9843, 0.3059, 0.0000,\n",
              "           0.0000, 0.0000, 0.0000, 0.0000, 0.0000, 0.0000, 0.0000, 0.0000,\n",
              "           0.0000, 0.0000, 0.0000, 0.0000],\n",
              "          [0.0000, 0.0000, 0.0000, 0.0000, 0.0000, 0.0000, 0.0000, 0.0000,\n",
              "           0.0000, 0.0157, 0.4196, 0.8235, 0.9451, 0.4745, 0.5216, 0.0627,\n",
              "           0.0000, 0.0000, 0.0000, 0.0000, 0.0000, 0.0000, 0.0000, 0.0000,\n",
              "           0.0000, 0.0000, 0.0000, 0.0000],\n",
              "          [0.0000, 0.0000, 0.0000, 0.0000, 0.0000, 0.0000, 0.0000, 0.0000,\n",
              "           0.0157, 0.5765, 0.9961, 0.9569, 0.9216, 0.9020, 1.0000, 0.5412,\n",
              "           0.0824, 0.0000, 0.0000, 0.0000, 0.0000, 0.0000, 0.0000, 0.0000,\n",
              "           0.0000, 0.0000, 0.0000, 0.0000],\n",
              "          [0.0000, 0.0000, 0.0000, 0.0000, 0.0000, 0.0000, 0.0000, 0.3216,\n",
              "           0.7059, 0.9961, 0.8275, 0.9255, 1.0000, 0.8549, 1.0000, 1.0000,\n",
              "           0.5647, 0.0000, 0.0000, 0.0000, 0.0000, 0.0000, 0.0000, 0.0000,\n",
              "           0.0000, 0.0000, 0.0000, 0.0000],\n",
              "          [0.0000, 0.0000, 0.0000, 0.0000, 0.0000, 0.0000, 0.3647, 0.9765,\n",
              "           1.0000, 0.8157, 0.2078, 0.9451, 0.2745, 0.0392, 0.8510, 1.0000,\n",
              "           0.9137, 0.2235, 0.2784, 0.4588, 0.5922, 0.4314, 0.2471, 0.0353,\n",
              "           0.0000, 0.0000, 0.0000, 0.0000],\n",
              "          [0.0000, 0.0000, 0.0000, 0.0000, 0.0510, 0.6941, 0.9333, 0.9843,\n",
              "           0.4706, 0.0745, 0.3843, 0.8549, 0.3216, 0.4000, 0.9922, 1.0000,\n",
              "           1.0000, 0.9882, 1.0000, 1.0000, 1.0000, 1.0000, 0.9961, 0.8392,\n",
              "           0.4235, 0.0196, 0.0000, 0.0000],\n",
              "          [0.0000, 0.0000, 0.0000, 0.0235, 0.6510, 1.0000, 0.8000, 0.3255,\n",
              "           0.5373, 0.8980, 1.0000, 1.0000, 0.9961, 0.8706, 0.9765, 1.0000,\n",
              "           1.0000, 0.7529, 0.4078, 0.5216, 0.7255, 1.0000, 1.0000, 1.0000,\n",
              "           1.0000, 0.8706, 0.3373, 0.0078],\n",
              "          [0.0000, 0.0000, 0.2588, 0.8588, 0.9765, 0.8510, 0.4863, 0.9137,\n",
              "           0.9961, 1.0000, 1.0000, 0.8549, 0.4549, 0.0078, 0.4235, 1.0000,\n",
              "           1.0000, 0.4314, 0.0000, 0.0000, 0.0039, 0.2745, 0.2863, 0.7255,\n",
              "           0.9294, 1.0000, 0.9882, 0.2588],\n",
              "          [0.0039, 0.3804, 0.8353, 0.8275, 0.8039, 1.0000, 0.9373, 0.9294,\n",
              "           0.9882, 0.6392, 0.6196, 0.6941, 0.2510, 0.0000, 0.4471, 1.0000,\n",
              "           0.9882, 0.2588, 0.0000, 0.0000, 0.0000, 0.0000, 0.0000, 0.0000,\n",
              "           0.4196, 1.0000, 1.0000, 0.5490],\n",
              "          [0.2980, 0.9373, 0.9255, 1.0000, 1.0000, 1.0000, 0.9020, 0.6392,\n",
              "           0.2902, 0.0078, 0.0863, 0.7569, 0.9529, 0.4314, 0.5255, 1.0000,\n",
              "           0.8392, 0.0235, 0.0000, 0.0000, 0.0000, 0.0000, 0.1451, 0.6078,\n",
              "           0.9569, 1.0000, 1.0000, 0.7490],\n",
              "          [0.4784, 1.0000, 1.0000, 1.0000, 1.0000, 0.8627, 0.2549, 0.0196,\n",
              "           0.0000, 0.0000, 0.0000, 0.1176, 0.7216, 0.9882, 0.9216, 1.0000,\n",
              "           0.4000, 0.0000, 0.0000, 0.0000, 0.1137, 0.5490, 0.9294, 1.0000,\n",
              "           1.0000, 1.0000, 1.0000, 0.4431],\n",
              "          [0.0157, 0.2784, 0.5373, 0.7255, 0.5843, 0.1255, 0.0000, 0.0000,\n",
              "           0.0000, 0.0000, 0.0000, 0.0000, 0.0471, 0.6941, 1.0000, 1.0000,\n",
              "           0.5176, 0.2941, 0.4314, 0.7647, 0.9529, 1.0000, 1.0000, 1.0000,\n",
              "           1.0000, 1.0000, 0.7882, 0.0471],\n",
              "          [0.0000, 0.0000, 0.0000, 0.0000, 0.0000, 0.0000, 0.0000, 0.0000,\n",
              "           0.0000, 0.0000, 0.0000, 0.0000, 0.0000, 0.0706, 0.2863, 0.3490,\n",
              "           0.2588, 0.5961, 0.8902, 1.0000, 1.0000, 1.0000, 1.0000, 1.0000,\n",
              "           0.8078, 0.4353, 0.0431, 0.0000],\n",
              "          [0.0000, 0.0000, 0.0000, 0.0000, 0.0000, 0.0000, 0.0000, 0.0000,\n",
              "           0.0000, 0.0000, 0.0000, 0.0000, 0.0000, 0.2588, 0.0000, 0.0000,\n",
              "           0.0000, 0.0000, 0.0000, 0.0000, 0.0000, 0.1333, 0.1922, 0.0196,\n",
              "           0.0039, 0.0000, 0.0000, 0.0000],\n",
              "          [0.0000, 0.0000, 0.0000, 0.0000, 0.0000, 0.0000, 0.0000, 0.0000,\n",
              "           0.0000, 0.0000, 0.0000, 0.0000, 0.0000, 0.0000, 0.0000, 0.0000,\n",
              "           0.0000, 0.0000, 0.0000, 0.0000, 0.0000, 0.0000, 0.0000, 0.0000,\n",
              "           0.0000, 0.0000, 0.0000, 0.0000],\n",
              "          [0.0000, 0.0000, 0.0000, 0.0000, 0.0000, 0.0000, 0.0000, 0.0000,\n",
              "           0.0000, 0.0000, 0.0000, 0.0000, 0.0000, 0.0000, 0.0000, 0.0000,\n",
              "           0.0000, 0.0000, 0.0000, 0.0000, 0.0000, 0.0000, 0.0000, 0.0000,\n",
              "           0.0000, 0.0000, 0.0000, 0.0000],\n",
              "          [0.0000, 0.0000, 0.0000, 0.0000, 0.0000, 0.0000, 0.0000, 0.0000,\n",
              "           0.0000, 0.0000, 0.0000, 0.0000, 0.0000, 0.0000, 0.0000, 0.0000,\n",
              "           0.0000, 0.0000, 0.0000, 0.0000, 0.0000, 0.0000, 0.0000, 0.0000,\n",
              "           0.0000, 0.0000, 0.0000, 0.0000],\n",
              "          [0.0000, 0.0000, 0.0000, 0.0000, 0.0000, 0.0000, 0.0000, 0.0000,\n",
              "           0.0000, 0.0000, 0.0000, 0.0000, 0.0000, 0.0000, 0.0000, 0.0000,\n",
              "           0.0000, 0.0000, 0.0000, 0.0000, 0.0000, 0.0000, 0.0000, 0.0000,\n",
              "           0.0000, 0.0000, 0.0000, 0.0000],\n",
              "          [0.0000, 0.0000, 0.0000, 0.0000, 0.0000, 0.0000, 0.0000, 0.0000,\n",
              "           0.0000, 0.0000, 0.0000, 0.0000, 0.0000, 0.0000, 0.0000, 0.0000,\n",
              "           0.0000, 0.0000, 0.0000, 0.0000, 0.0000, 0.0000, 0.0000, 0.0000,\n",
              "           0.0000, 0.0000, 0.0000, 0.0000],\n",
              "          [0.0000, 0.0000, 0.0000, 0.0000, 0.0000, 0.0000, 0.0000, 0.0000,\n",
              "           0.0000, 0.0000, 0.0000, 0.0000, 0.0000, 0.0000, 0.0000, 0.0000,\n",
              "           0.0000, 0.0000, 0.0000, 0.0000, 0.0000, 0.0000, 0.0000, 0.0000,\n",
              "           0.0000, 0.0000, 0.0000, 0.0000]]]), 7)"
            ]
          },
          "execution_count": 5,
          "metadata": {},
          "output_type": "execute_result"
        }
      ],
      "source": [
        "image, label = train_data[1]\n",
        "image, label"
      ]
    },
    {
      "cell_type": "code",
      "execution_count": 6,
      "metadata": {
        "colab": {
          "base_uri": "https://localhost:8080/",
          "height": 265
        },
        "id": "JP94wm2pQgfQ",
        "outputId": "c0108f1d-c8d7-42f0-b15d-80b1f96df98e"
      },
      "outputs": [
        {
          "data": {
            "image/png": "[encoded data removed]",
            "text/plain": [
              "<Figure size 432x288 with 1 Axes>"
            ]
          },
          "metadata": {
            "needs_background": "light"
          },
          "output_type": "display_data"
        }
      ],
      "source": [
        "plt.imshow(image.squeeze());"
      ]
    },
    {
      "cell_type": "markdown",
      "metadata": {
        "id": "Bb2_EXhv_fX_"
      },
      "source": [
        "## Convolution and Max-Pooling:\n",
        "Okay, in the introduction, I say convolution is just `nn.Conv2d()`. It is partially incorrect. For the task of image classification in this notebook, yes, `nn.Con2d()` is what we need, because our image data have just 2 dimensions: height and width. For text, which is 1-dimensional, you will need `nn.Conv1d()`, and for 3D objects, of course there is `nn.Conv3d()`. The same is true for `nn.MaxPool2d()`."
      ]
    },
    {
      "cell_type": "markdown",
      "metadata": {
        "id": "cYfVUbVnbHBJ"
      },
      "source": [
        "### Convolution\n",
        "First, let's talk about convolution. The intuition is *a convolution layer will apply a filter on the data and try to extract a fundamental pattern out of the data*. Mathematically, it is represented by an example operation:\n",
        "\n",
        "- We take an image such as above, which has $n*m$ pixel\n",
        "- We have a *filter*, or a *kernel*, which is essentially a matrix of size $p*q$, and is smaller than the image. It is usually seen that that kernel is square a.k.a of size $p*p$. The value at each position of the kernel is a *weight* in the layer (Yup, we're gonna multiply them with something next).\n",
        "- We pick a region in the image of size $p*p$, starting from the top-left-most pixel, and perform element-wise multiplication with the kernel, receiving an intermediate matrix of size $p*p$. Next, we will sum together all the elements of the intermediate matrix plus the *bias* term. We get a single value, which could be thought of as a single new pixel in this case.\n",
        "- We consecutively pick the next region, moving right one pixel at a time, going down one pixel at a time, until we hit the right-bottom-most pixel. The new pixel values are place side-by-side in the exact sequence of calculation.\n",
        "- If you still have no idea what I am talking about, take a look at this website: [CNN Explainer](https://poloclub.github.io/cnn-explainer/).\n",
        "\n",
        "The operation described above is the most simple case, one can specify many things differently. A quick look at the attributes of `nn.Conv2d()` yields:\n",
        "\n",
        "- `in_channels` (int) – Number of channels in the input image. Usually referred to number of color channels.\n",
        "- `out_channels` (int) – Number of channels produced by the convolution.\n",
        "- `kernel_size` (int or tuple) – Size of the convolving kernel. Passing just a number (such as 3) and we get a square kernel, passing a tuple of integers and we will get a non-square kernel.\n",
        "- `stride` (int or tuple, optional) – Stride of the convolution. Default: 1. Essentially how many pixel we will move right to pick a new region. Pick a stride $n$ bigger than 1 and we will skip $n-1$ pixel at a time.\n",
        "- `padding` (int, tuple or str, optional) – Padding added to all four sides of the input. Default: 0. Padding is a little special. If you do the math, you will realize that convolution will reduce each dimension of the image by $p-1$ pixels for a kernel of size $p*p$. In the common case of kernel size 3, each dimension will reduce by 2, but by setting `padding=1`, the output image will have the same dimensions as the the input image.\n",
        "- `padding_mode` (str, optional) – `'zeros'`, `'reflect'`, `'replicate'` or `'circular'`. Default: `'zeros'`\n",
        "\n",
        "Now let's jump into the code. The `conv` instance we created takes in image with just 1 color channel, and output image with 1 color channel. `kernel_size` is $3*3$, or picking out 9 pixels at a time. `stride` is 1, which means we does not skip any pixel. There is no padding to the original image, which makes the new image have dimensions $26*26$."
      ]
    },
    {
      "cell_type": "code",
      "execution_count": 7,
      "metadata": {
        "colab": {
          "base_uri": "https://localhost:8080/",
          "height": 265
        },
        "id": "ho7I9s1_BmDC",
        "outputId": "8b110536-1aa1-4283-a221-0b4d29e036fd"
      },
      "outputs": [
        {
          "data": {
            "image/png": "[encoded data removed]",
            "text/plain": [
              "<Figure size 432x288 with 1 Axes>"
            ]
          },
          "metadata": {
            "needs_background": "light"
          },
          "output_type": "display_data"
        }
      ],
      "source": [
        "torch.manual_seed(17)\n",
        "\n",
        "conv = nn.Conv2d(in_channels=1, out_channels=1, kernel_size=3, stride=1, padding=0)\n",
        "conv_image = conv(image)\n",
        "plt.imshow(conv_image.squeeze().detach().numpy());"
      ]
    },
    {
      "cell_type": "markdown",
      "metadata": {
        "id": "-5_5KXokU7hI"
      },
      "source": [
        "Honestly, this is not much to see, as the convolution weights are just randomly initialized and means next to nothing. However, after training, convolution can become very good at picking out pattern. Just checking out [this demonstration](https://youtu.be/htiNBPxcXgo?t=3085) by Jeremy, where he showed a convolution that pick out the horizontal edges. Do what the next part as well, where he trained the convolution neural network in Excel!\n",
        "\n",
        "Next, let's jump into Max-Pooling"
      ]
    },
    {
      "cell_type": "markdown",
      "metadata": {
        "id": "KhheQh2ja_ri"
      },
      "source": [
        "### Max-Pooling\n",
        "As the name suggests, we now still have a kernel of some size, let's say $p*p$. We will go through a square region of $p^2$ pixels at a time, and output the maximum value of the region. Then we will move to the next region, usually with a stride of $p-1$ i.e. the next region has no common pixel with any previous region. Without padding, this means that the output image will have its dimensions divided by p.\n",
        "\n",
        "The attributes of `nn.MaxPool2d()` is essentially similar to `nn.Conv2d()`. For the code, `max_pool` is a max-pooling layer with a kernel size of 2, and that's it."
      ]
    },
    {
      "cell_type": "code",
      "execution_count": 8,
      "metadata": {
        "colab": {
          "base_uri": "https://localhost:8080/",
          "height": 265
        },
        "id": "_K0rPXhTBl3b",
        "outputId": "4ef16991-f072-4d6a-e51d-9eba998dc90d"
      },
      "outputs": [
        {
          "data": {
            "image/png": "[encoded data removed]",
            "text/plain": [
              "<Figure size 432x288 with 1 Axes>"
            ]
          },
          "metadata": {
            "needs_background": "light"
          },
          "output_type": "display_data"
        }
      ],
      "source": [
        "max_pool = nn.MaxPool2d(kernel_size=2)\n",
        "max_pool_image = max_pool(conv_image)\n",
        "plt.imshow(max_pool_image.squeeze().detach().numpy());"
      ]
    },
    {
      "cell_type": "markdown",
      "metadata": {
        "id": "4VFtm3Lfcr_c"
      },
      "source": [
        "The model I build will be aptly named TinyVGG, with the architecture adapted from [CNN Explainer](https://poloclub.github.io/cnn-explainer/) mentioned above."
      ]
    },
    {
      "cell_type": "code",
      "execution_count": 9,
      "metadata": {
        "id": "WJyDgLE4RNGV"
      },
      "outputs": [],
      "source": [
        "BATCH_SIZE = 2048\n",
        "\n",
        "TrainLoader = DataLoader(train_data, BATCH_SIZE, shuffle=True)\n",
        "TestLoader = DataLoader(test_data, BATCH_SIZE, shuffle=False)"
      ]
    },
    {
      "cell_type": "code",
      "execution_count": 10,
      "metadata": {
        "colab": {
          "base_uri": "https://localhost:8080/"
        },
        "id": "XNpxWMUJeR8r",
        "outputId": "de92472d-886f-47b2-e96d-2660ff5ca496"
      },
      "outputs": [
        {
          "name": "stdout",
          "output_type": "stream",
          "text": [
            "Dataloaders: (<torch.utils.data.dataloader.DataLoader object at 0x7ff4903aa550>, <torch.utils.data.dataloader.DataLoader object at 0x7ff4903aafa0>)\n",
            "Length of train dataloader: 30 batches of 2048\n",
            "Length of test dataloader: 5 batches of 2048\n"
          ]
        }
      ],
      "source": [
        "print(f\"Dataloaders: {TrainLoader, TestLoader}\") \n",
        "print(f\"Length of train dataloader: {len(TrainLoader)} batches of {BATCH_SIZE}\")\n",
        "print(f\"Length of test dataloader: {len(TestLoader)} batches of {BATCH_SIZE}\")"
      ]
    },
    {
      "cell_type": "code",
      "execution_count": 11,
      "metadata": {
        "colab": {
          "base_uri": "https://localhost:8080/"
        },
        "id": "PsgHI6dhVX5s",
        "outputId": "a18d11e8-cf4c-4f40-a74e-d350ff48e0a1"
      },
      "outputs": [
        {
          "data": {
            "text/plain": [
              "['o', 'ki', 'su', 'tsu', 'na', 'ha', 'ma', 'ya', 're', 'wo']"
            ]
          },
          "execution_count": 11,
          "metadata": {},
          "output_type": "execute_result"
        }
      ],
      "source": [
        "class_names = train_data.classes\n",
        "class_names"
      ]
    },
    {
      "cell_type": "code",
      "execution_count": 12,
      "metadata": {
        "id": "l3w9KbhxVM1X"
      },
      "outputs": [],
      "source": [
        "device = 'cuda' if torch.cuda.is_available() else 'cpu'"
      ]
    },
    {
      "cell_type": "code",
      "execution_count": 13,
      "metadata": {
        "id": "r29u4HGRSQCF"
      },
      "outputs": [],
      "source": [
        "class TinyConvNet(nn.Module):\n",
        "    def __init__(self, input_shape, hidden_units, output_shape):\n",
        "        super().__init__()\n",
        "        self.block1 = nn.Sequential(\n",
        "            nn.Conv2d(input_shape, hidden_units, 3, 1, 1),\n",
        "            nn.ReLU(),\n",
        "            nn.Conv2d(hidden_units, hidden_units, 3, 1, 1),\n",
        "            nn.ReLU(),\n",
        "            nn.MaxPool2d(2)\n",
        "        )\n",
        "        self.block2 = nn.Sequential(\n",
        "            nn.Conv2d(hidden_units, hidden_units, 3, 1, 1),\n",
        "            nn.ReLU(),\n",
        "            nn.Conv2d(hidden_units, hidden_units, 3, 1, 1),\n",
        "            nn.ReLU(),\n",
        "            nn.MaxPool2d(2)\n",
        "        )\n",
        "        self.classifier = nn.Sequential(\n",
        "            nn.Flatten(),\n",
        "            nn.Linear(hidden_units*7*7, output_shape)\n",
        "        )\n",
        "\n",
        "    def forward(self, x):\n",
        "        x = self.block1(x)\n",
        "        x = self.block2(x)\n",
        "        x = self.classifier(x)\n",
        "        return x"
      ]
    },
    {
      "cell_type": "code",
      "execution_count": 14,
      "metadata": {
        "colab": {
          "base_uri": "https://localhost:8080/"
        },
        "id": "y1wwN7u_VQg0",
        "outputId": "268aa020-8ffb-4200-e8c4-b4ad0a8afe62"
      },
      "outputs": [
        {
          "data": {
            "text/plain": [
              "TinyConvNet(\n",
              "  (block1): Sequential(\n",
              "    (0): Conv2d(1, 10, kernel_size=(3, 3), stride=(1, 1), padding=(1, 1))\n",
              "    (1): ReLU()\n",
              "    (2): Conv2d(10, 10, kernel_size=(3, 3), stride=(1, 1), padding=(1, 1))\n",
              "    (3): ReLU()\n",
              "    (4): MaxPool2d(kernel_size=2, stride=2, padding=0, dilation=1, ceil_mode=False)\n",
              "  )\n",
              "  (block2): Sequential(\n",
              "    (0): Conv2d(10, 10, kernel_size=(3, 3), stride=(1, 1), padding=(1, 1))\n",
              "    (1): ReLU()\n",
              "    (2): Conv2d(10, 10, kernel_size=(3, 3), stride=(1, 1), padding=(1, 1))\n",
              "    (3): ReLU()\n",
              "    (4): MaxPool2d(kernel_size=2, stride=2, padding=0, dilation=1, ceil_mode=False)\n",
              "  )\n",
              "  (classifier): Sequential(\n",
              "    (0): Flatten(start_dim=1, end_dim=-1)\n",
              "    (1): Linear(in_features=490, out_features=10, bias=True)\n",
              "  )\n",
              ")"
            ]
          },
          "execution_count": 14,
          "metadata": {},
          "output_type": "execute_result"
        }
      ],
      "source": [
        "torch.manual_seed(17)\n",
        "model = TinyConvNet(input_shape=1, \n",
        "    hidden_units=10, \n",
        "    output_shape=len(class_names)).to(device)\n",
        "model"
      ]
    },
    {
      "cell_type": "code",
      "execution_count": 15,
      "metadata": {
        "id": "ZDGyauyRVoir"
      },
      "outputs": [],
      "source": [
        "criterion = nn.CrossEntropyLoss()\n",
        "optimizer = torch.optim.SGD(model.parameters(), lr=0.05)"
      ]
    },
    {
      "cell_type": "code",
      "execution_count": 16,
      "metadata": {
        "id": "jlhivXirWBlT"
      },
      "outputs": [],
      "source": [
        "accuracy = Accuracy(task='multiclass', num_classes=len(class_names)).to(device)"
      ]
    },
    {
      "cell_type": "code",
      "execution_count": 17,
      "metadata": {
        "id": "K_y133mtWcll"
      },
      "outputs": [],
      "source": [
        "def train_step(model: torch.nn.Module,\n",
        "               data_loader: torch.utils.data.DataLoader,\n",
        "               criterion: torch.nn.Module,\n",
        "               optimizer: torch.optim.Optimizer,\n",
        "               metric: Accuracy,\n",
        "               device: torch.device = device):\n",
        "    train_loss, train_acc = 0, 0\n",
        "    for batch, (X,y) in enumerate(data_loader):\n",
        "        X, y = X.to(device), y.to(device)\n",
        "        # 1. Forward pass\n",
        "        y_pred = model(X)\n",
        "\n",
        "        # 2. Calculate loss & accuracy\n",
        "        loss = criterion(y_pred, y)\n",
        "        train_loss += loss\n",
        "        train_acc += metric(y_pred.argmax(dim=1), y)\n",
        "\n",
        "        # 3. Empty out gradient\n",
        "        optimizer.zero_grad()\n",
        "\n",
        "        # 4. Backpropagation\n",
        "        loss.backward()\n",
        "\n",
        "        # 5. Optimize 1 step\n",
        "        optimizer.step()\n",
        "\n",
        "    train_loss /= len(data_loader)\n",
        "    train_acc /= len(data_loader)\n",
        "    print(f\"Train loss: {train_loss:.5f} | Train accuracy: {train_acc:.2f}\")"
      ]
    },
    {
      "cell_type": "code",
      "execution_count": 18,
      "metadata": {
        "id": "ctuZjB-Sdm9c"
      },
      "outputs": [],
      "source": [
        "def test_step(model: torch.nn.Module,\n",
        "               data_loader: torch.utils.data.DataLoader,\n",
        "               criterion: torch.nn.Module,\n",
        "               metric: Accuracy,\n",
        "               device: torch.device = device):\n",
        "    test_loss, acc = 0, 0\n",
        "    model.eval()\n",
        "    with torch.inference_mode():\n",
        "        for (X,y) in data_loader:\n",
        "            X, y = X.to(device), y.to(device)\n",
        "        # 1. Forward pass\n",
        "            y_pred = model(X)\n",
        "\n",
        "        # 2. Calculate loss & accuracy\n",
        "            test_loss += criterion(y_pred, y)\n",
        "            acc += metric(y_pred.argmax(dim=1), y)\n",
        "\n",
        "        test_loss /= len(data_loader)\n",
        "        acc /= len(data_loader)\n",
        "        print(f\"Test loss: {test_loss:.5f} | Test accuracy: {acc:.2f}\")"
      ]
    },
    {
      "cell_type": "code",
      "execution_count": 19,
      "metadata": {
        "colab": {
          "base_uri": "https://localhost:8080/",
          "height": 1000,
          "referenced_widgets": [
            "aecfe7b5d3544e7fba194da3fa959746",
            "757cb5b6b641438681b24182a2163ca2",
            "03081ab6a2704dd2bf6fc6af79491beb",
            "c563d3c4417d46b89b44d8e2c010d604",
            "7a327903d3ef4fc0b85dceb103728456",
            "41a8349c61314a6eab14e90a40ecf422",
            "bdca5cb20d6a4ae2b4b630f61226bc61",
            "4631944cb1404ef6a5ecf4533ab84507",
            "5bc37ba17f254191a39468e54ea66668",
            "4dcd14872d4c4237a399c19f2b663c77",
            "f1e7037f2a4440d1a777fa7cc7a90739"
          ]
        },
        "id": "GFSkS77XZMC4",
        "outputId": "228eb139-18aa-46ae-b638-cd37fdc01ef5"
      },
      "outputs": [
        {
          "data": {
            "application/vnd.jupyter.widget-view+json": {
              "model_id": "aecfe7b5d3544e7fba194da3fa959746",
              "version_major": 2,
              "version_minor": 0
            },
            "text/plain": [
              "  0%|          | 0/20 [00:00<?, ?it/s]"
            ]
          },
          "metadata": {},
          "output_type": "display_data"
        },
        {
          "name": "stdout",
          "output_type": "stream",
          "text": [
            "Epoch: 0\n",
            "---------\n",
            "Train loss: 2.30309 | Train accuracy: 0.10\n",
            "Test loss: 2.30214 | Test accuracy: 0.12\n",
            "Epoch: 1\n",
            "---------\n",
            "Train loss: 2.30146 | Train accuracy: 0.11\n",
            "Test loss: 2.30087 | Test accuracy: 0.14\n",
            "Epoch: 2\n",
            "---------\n",
            "Train loss: 2.29937 | Train accuracy: 0.12\n",
            "Test loss: 2.29867 | Test accuracy: 0.14\n",
            "Epoch: 3\n",
            "---------\n",
            "Train loss: 2.29444 | Train accuracy: 0.19\n",
            "Test loss: 2.29213 | Test accuracy: 0.20\n",
            "Epoch: 4\n",
            "---------\n",
            "Train loss: 2.26622 | Train accuracy: 0.29\n",
            "Test loss: 2.22187 | Test accuracy: 0.30\n",
            "Epoch: 5\n",
            "---------\n",
            "Train loss: 1.77649 | Train accuracy: 0.49\n",
            "Test loss: 1.63724 | Test accuracy: 0.50\n",
            "Epoch: 6\n",
            "---------\n",
            "Train loss: 1.19701 | Train accuracy: 0.63\n",
            "Test loss: 1.84510 | Test accuracy: 0.49\n",
            "Epoch: 7\n",
            "---------\n",
            "Train loss: 1.01789 | Train accuracy: 0.68\n",
            "Test loss: 1.51725 | Test accuracy: 0.50\n",
            "Epoch: 8\n",
            "---------\n",
            "Train loss: 0.89062 | Train accuracy: 0.73\n",
            "Test loss: 1.27252 | Test accuracy: 0.60\n",
            "Epoch: 9\n",
            "---------\n",
            "Train loss: 0.80031 | Train accuracy: 0.75\n",
            "Test loss: 1.29735 | Test accuracy: 0.57\n",
            "Epoch: 10\n",
            "---------\n",
            "Train loss: 0.72534 | Train accuracy: 0.78\n",
            "Test loss: 1.10146 | Test accuracy: 0.66\n",
            "Epoch: 11\n",
            "---------\n",
            "Train loss: 0.64889 | Train accuracy: 0.80\n",
            "Test loss: 1.09186 | Test accuracy: 0.64\n",
            "Epoch: 12\n",
            "---------\n",
            "Train loss: 0.60812 | Train accuracy: 0.81\n",
            "Test loss: 0.96741 | Test accuracy: 0.70\n",
            "Epoch: 13\n",
            "---------\n",
            "Train loss: 0.54985 | Train accuracy: 0.83\n",
            "Test loss: 0.91418 | Test accuracy: 0.71\n",
            "Epoch: 14\n",
            "---------\n",
            "Train loss: 0.51208 | Train accuracy: 0.84\n",
            "Test loss: 0.84423 | Test accuracy: 0.73\n",
            "Epoch: 15\n",
            "---------\n",
            "Train loss: 0.45502 | Train accuracy: 0.86\n",
            "Test loss: 0.74528 | Test accuracy: 0.77\n",
            "Epoch: 16\n",
            "---------\n",
            "Train loss: 0.41647 | Train accuracy: 0.87\n",
            "Test loss: 0.81173 | Test accuracy: 0.74\n",
            "Epoch: 17\n",
            "---------\n",
            "Train loss: 0.39236 | Train accuracy: 0.88\n",
            "Test loss: 0.79019 | Test accuracy: 0.75\n",
            "Epoch: 18\n",
            "---------\n",
            "Train loss: 0.38087 | Train accuracy: 0.88\n",
            "Test loss: 0.70741 | Test accuracy: 0.78\n",
            "Epoch: 19\n",
            "---------\n",
            "Train loss: 0.34548 | Train accuracy: 0.89\n",
            "Test loss: 0.78307 | Test accuracy: 0.75\n"
          ]
        }
      ],
      "source": [
        "epochs = 20\n",
        "for epoch in tqdm(range(epochs)):\n",
        "    print(f\"Epoch: {epoch}\\n---------\")\n",
        "    train_step(data_loader=TrainLoader, \n",
        "        model=model, \n",
        "        criterion=criterion,\n",
        "        optimizer=optimizer,\n",
        "        metric=accuracy,\n",
        "        device=device\n",
        "    )\n",
        "    test_step(data_loader=TestLoader,\n",
        "        model=model,\n",
        "        criterion=criterion,\n",
        "        metric=accuracy,\n",
        "        device=device\n",
        "    )\n"
      ]
    },
    {
      "cell_type": "markdown",
      "metadata": {
        "id": "8GotyNkseoGK"
      },
      "source": [
        "Our model looks good! Let's make prediction on the test set."
      ]
    },
    {
      "cell_type": "code",
      "execution_count": 20,
      "metadata": {
        "colab": {
          "base_uri": "https://localhost:8080/",
          "height": 49,
          "referenced_widgets": [
            "83915526c0a6487587e3a351f6a01161",
            "6b6572383700440185373d31684bf9f7",
            "7d27e66bb03b470eba0dea6ef2540151",
            "03321ac18fd74805816fb697de35fffb",
            "6828ad74c5e9444795e044ad1ee007ff",
            "6dc8afc7f71d42b2a39d2455ce3b6675",
            "9c67a47a8d1d4931b70e17627d218554",
            "bb459d0fff3d40a8a42f76a3cba0d035",
            "c87282c88fb94bd1b8323baf64cf33d1",
            "673701740c7a484d86f4e063919f1560",
            "c47f213432c246e38d4f9349eb3a00a0"
          ]
        },
        "id": "E9MQTc2Gv7QS",
        "outputId": "da9be98d-eacb-4e6b-b794-bcfd698f66d6"
      },
      "outputs": [
        {
          "data": {
            "application/vnd.jupyter.widget-view+json": {
              "model_id": "83915526c0a6487587e3a351f6a01161",
              "version_major": 2,
              "version_minor": 0
            },
            "text/plain": [
              "Making predictions:   0%|          | 0/5 [00:00<?, ?it/s]"
            ]
          },
          "metadata": {},
          "output_type": "display_data"
        }
      ],
      "source": [
        "# 1. Make predictions with trained model\n",
        "y_preds = []\n",
        "model.eval()\n",
        "with torch.inference_mode():\n",
        "  for X, y in tqdm(TestLoader, desc=\"Making predictions\"):\n",
        "    # Send data and targets to target device\n",
        "    X, y = X.to(device), y.to(device)\n",
        "    # Do the forward pass\n",
        "    y_logit = model(X)\n",
        "    # Turn predictions from logits -> prediction probabilities -> predictions labels\n",
        "    y_pred = torch.softmax(y_logit, dim=1).argmax(dim=1)\n",
        "    # Put predictions on CPU for evaluation\n",
        "    y_preds.append(y_pred.cpu())\n",
        "# Concatenate list of predictions into a tensor\n",
        "y_pred_tensor = torch.cat(y_preds)"
      ]
    },
    {
      "cell_type": "code",
      "execution_count": 21,
      "metadata": {
        "colab": {
          "base_uri": "https://localhost:8080/",
          "height": 451
        },
        "id": "3szZxEESdoyA",
        "outputId": "5b4596de-a4da-4a43-f679-a347e75f8671"
      },
      "outputs": [
        {
          "data": {
            "image/png": "[encoded data removed]",
            "text/plain": [
              "<Figure size 720x504 with 1 Axes>"
            ]
          },
          "metadata": {
            "needs_background": "light"
          },
          "output_type": "display_data"
        }
      ],
      "source": [
        "# 2. Setup confusion matrix instance and compare predictions to targets\n",
        "confmat = ConfusionMatrix(num_classes=len(class_names), task='multiclass')\n",
        "confmat_tensor = confmat(preds=y_pred_tensor,\n",
        "                         target=test_data.targets)\n",
        "\n",
        "# 3. Plot the confusion matrix\n",
        "fig, ax = plot_confusion_matrix(\n",
        "    conf_mat=confmat_tensor.numpy(), # matplotlib likes working with NumPy\n",
        "    class_names = class_names, # turn the row and column labels into class names\n",
        "    figsize=(10, 7)\n",
        ");"
      ]
    },
    {
      "cell_type": "markdown",
      "metadata": {
        "id": "5cqiTaNTf1ue"
      },
      "source": [
        "The convolution architecture seems to be better than baseline model in the Routine notebook. However, notice that the accuracy for the training set is much higher than the accuracy for the testing set, indicating overfitting.The confusion matrix also shows that the model seems to mistake other charaters for `'ki'` the most."
      ]
    },
    {
      "cell_type": "code",
      "execution_count": null,
      "metadata": {
        "id": "3IlBaoGuhLKj"
      },
      "outputs": [],
      "source": []
    }
  ],
  "metadata": {
    "accelerator": "GPU",
    "colab": {
      "provenance": []
    },
    "gpuClass": "standard",
    "kernelspec": {
      "display_name": "base",
      "language": "python",
      "name": "python3"
    },
    "language_info": {
      "name": "python",
      "version": "3.9.7 (default, Sep 16 2021, 16:59:28) [MSC v.1916 64 bit (AMD64)]"
    },
    "vscode": {
      "interpreter": {
        "hash": "2043299c89c8cd0b4d1a6f5cf4529bd58e6a4e0fe3181a25e0d328c821cdc5c5"
      }
    },
    "widgets": {
      "application/vnd.jupyter.widget-state+json": {
        "03081ab6a2704dd2bf6fc6af79491beb": {
          "model_module": "@jupyter-widgets/controls",
          "model_module_version": "1.5.0",
          "model_name": "FloatProgressModel",
          "state": {
            "_dom_classes": [],
            "_model_module": "@jupyter-widgets/controls",
            "_model_module_version": "1.5.0",
            "_model_name": "FloatProgressModel",
            "_view_count": null,
            "_view_module": "@jupyter-widgets/controls",
            "_view_module_version": "1.5.0",
            "_view_name": "ProgressView",
            "bar_style": "success",
            "description": "",
            "description_tooltip": null,
            "layout": "IPY_MODEL_4631944cb1404ef6a5ecf4533ab84507",
            "max": 20,
            "min": 0,
            "orientation": "horizontal",
            "style": "IPY_MODEL_5bc37ba17f254191a39468e54ea66668",
            "value": 20
          }
        },
        "03321ac18fd74805816fb697de35fffb": {
          "model_module": "@jupyter-widgets/controls",
          "model_module_version": "1.5.0",
          "model_name": "HTMLModel",
          "state": {
            "_dom_classes": [],
            "_model_module": "@jupyter-widgets/controls",
            "_model_module_version": "1.5.0",
            "_model_name": "HTMLModel",
            "_view_count": null,
            "_view_module": "@jupyter-widgets/controls",
            "_view_module_version": "1.5.0",
            "_view_name": "HTMLView",
            "description": "",
            "description_tooltip": null,
            "layout": "IPY_MODEL_673701740c7a484d86f4e063919f1560",
            "placeholder": "​",
            "style": "IPY_MODEL_c47f213432c246e38d4f9349eb3a00a0",
            "value": " 5/5 [00:00&lt;00:00,  6.20it/s]"
          }
        },
        "41a8349c61314a6eab14e90a40ecf422": {
          "model_module": "@jupyter-widgets/base",
          "model_module_version": "1.2.0",
          "model_name": "LayoutModel",
          "state": {
            "_model_module": "@jupyter-widgets/base",
            "_model_module_version": "1.2.0",
            "_model_name": "LayoutModel",
            "_view_count": null,
            "_view_module": "@jupyter-widgets/base",
            "_view_module_version": "1.2.0",
            "_view_name": "LayoutView",
            "align_content": null,
            "align_items": null,
            "align_self": null,
            "border": null,
            "bottom": null,
            "display": null,
            "flex": null,
            "flex_flow": null,
            "grid_area": null,
            "grid_auto_columns": null,
            "grid_auto_flow": null,
            "grid_auto_rows": null,
            "grid_column": null,
            "grid_gap": null,
            "grid_row": null,
            "grid_template_areas": null,
            "grid_template_columns": null,
            "grid_template_rows": null,
            "height": null,
            "justify_content": null,
            "justify_items": null,
            "left": null,
            "margin": null,
            "max_height": null,
            "max_width": null,
            "min_height": null,
            "min_width": null,
            "object_fit": null,
            "object_position": null,
            "order": null,
            "overflow": null,
            "overflow_x": null,
            "overflow_y": null,
            "padding": null,
            "right": null,
            "top": null,
            "visibility": null,
            "width": null
          }
        },
        "4631944cb1404ef6a5ecf4533ab84507": {
          "model_module": "@jupyter-widgets/base",
          "model_module_version": "1.2.0",
          "model_name": "LayoutModel",
          "state": {
            "_model_module": "@jupyter-widgets/base",
            "_model_module_version": "1.2.0",
            "_model_name": "LayoutModel",
            "_view_count": null,
            "_view_module": "@jupyter-widgets/base",
            "_view_module_version": "1.2.0",
            "_view_name": "LayoutView",
            "align_content": null,
            "align_items": null,
            "align_self": null,
            "border": null,
            "bottom": null,
            "display": null,
            "flex": null,
            "flex_flow": null,
            "grid_area": null,
            "grid_auto_columns": null,
            "grid_auto_flow": null,
            "grid_auto_rows": null,
            "grid_column": null,
            "grid_gap": null,
            "grid_row": null,
            "grid_template_areas": null,
            "grid_template_columns": null,
            "grid_template_rows": null,
            "height": null,
            "justify_content": null,
            "justify_items": null,
            "left": null,
            "margin": null,
            "max_height": null,
            "max_width": null,
            "min_height": null,
            "min_width": null,
            "object_fit": null,
            "object_position": null,
            "order": null,
            "overflow": null,
            "overflow_x": null,
            "overflow_y": null,
            "padding": null,
            "right": null,
            "top": null,
            "visibility": null,
            "width": null
          }
        },
        "4dcd14872d4c4237a399c19f2b663c77": {
          "model_module": "@jupyter-widgets/base",
          "model_module_version": "1.2.0",
          "model_name": "LayoutModel",
          "state": {
            "_model_module": "@jupyter-widgets/base",
            "_model_module_version": "1.2.0",
            "_model_name": "LayoutModel",
            "_view_count": null,
            "_view_module": "@jupyter-widgets/base",
            "_view_module_version": "1.2.0",
            "_view_name": "LayoutView",
            "align_content": null,
            "align_items": null,
            "align_self": null,
            "border": null,
            "bottom": null,
            "display": null,
            "flex": null,
            "flex_flow": null,
            "grid_area": null,
            "grid_auto_columns": null,
            "grid_auto_flow": null,
            "grid_auto_rows": null,
            "grid_column": null,
            "grid_gap": null,
            "grid_row": null,
            "grid_template_areas": null,
            "grid_template_columns": null,
            "grid_template_rows": null,
            "height": null,
            "justify_content": null,
            "justify_items": null,
            "left": null,
            "margin": null,
            "max_height": null,
            "max_width": null,
            "min_height": null,
            "min_width": null,
            "object_fit": null,
            "object_position": null,
            "order": null,
            "overflow": null,
            "overflow_x": null,
            "overflow_y": null,
            "padding": null,
            "right": null,
            "top": null,
            "visibility": null,
            "width": null
          }
        },
        "5bc37ba17f254191a39468e54ea66668": {
          "model_module": "@jupyter-widgets/controls",
          "model_module_version": "1.5.0",
          "model_name": "ProgressStyleModel",
          "state": {
            "_model_module": "@jupyter-widgets/controls",
            "_model_module_version": "1.5.0",
            "_model_name": "ProgressStyleModel",
            "_view_count": null,
            "_view_module": "@jupyter-widgets/base",
            "_view_module_version": "1.2.0",
            "_view_name": "StyleView",
            "bar_color": null,
            "description_width": ""
          }
        },
        "673701740c7a484d86f4e063919f1560": {
          "model_module": "@jupyter-widgets/base",
          "model_module_version": "1.2.0",
          "model_name": "LayoutModel",
          "state": {
            "_model_module": "@jupyter-widgets/base",
            "_model_module_version": "1.2.0",
            "_model_name": "LayoutModel",
            "_view_count": null,
            "_view_module": "@jupyter-widgets/base",
            "_view_module_version": "1.2.0",
            "_view_name": "LayoutView",
            "align_content": null,
            "align_items": null,
            "align_self": null,
            "border": null,
            "bottom": null,
            "display": null,
            "flex": null,
            "flex_flow": null,
            "grid_area": null,
            "grid_auto_columns": null,
            "grid_auto_flow": null,
            "grid_auto_rows": null,
            "grid_column": null,
            "grid_gap": null,
            "grid_row": null,
            "grid_template_areas": null,
            "grid_template_columns": null,
            "grid_template_rows": null,
            "height": null,
            "justify_content": null,
            "justify_items": null,
            "left": null,
            "margin": null,
            "max_height": null,
            "max_width": null,
            "min_height": null,
            "min_width": null,
            "object_fit": null,
            "object_position": null,
            "order": null,
            "overflow": null,
            "overflow_x": null,
            "overflow_y": null,
            "padding": null,
            "right": null,
            "top": null,
            "visibility": null,
            "width": null
          }
        },
        "6828ad74c5e9444795e044ad1ee007ff": {
          "model_module": "@jupyter-widgets/base",
          "model_module_version": "1.2.0",
          "model_name": "LayoutModel",
          "state": {
            "_model_module": "@jupyter-widgets/base",
            "_model_module_version": "1.2.0",
            "_model_name": "LayoutModel",
            "_view_count": null,
            "_view_module": "@jupyter-widgets/base",
            "_view_module_version": "1.2.0",
            "_view_name": "LayoutView",
            "align_content": null,
            "align_items": null,
            "align_self": null,
            "border": null,
            "bottom": null,
            "display": null,
            "flex": null,
            "flex_flow": null,
            "grid_area": null,
            "grid_auto_columns": null,
            "grid_auto_flow": null,
            "grid_auto_rows": null,
            "grid_column": null,
            "grid_gap": null,
            "grid_row": null,
            "grid_template_areas": null,
            "grid_template_columns": null,
            "grid_template_rows": null,
            "height": null,
            "justify_content": null,
            "justify_items": null,
            "left": null,
            "margin": null,
            "max_height": null,
            "max_width": null,
            "min_height": null,
            "min_width": null,
            "object_fit": null,
            "object_position": null,
            "order": null,
            "overflow": null,
            "overflow_x": null,
            "overflow_y": null,
            "padding": null,
            "right": null,
            "top": null,
            "visibility": null,
            "width": null
          }
        },
        "6b6572383700440185373d31684bf9f7": {
          "model_module": "@jupyter-widgets/controls",
          "model_module_version": "1.5.0",
          "model_name": "HTMLModel",
          "state": {
            "_dom_classes": [],
            "_model_module": "@jupyter-widgets/controls",
            "_model_module_version": "1.5.0",
            "_model_name": "HTMLModel",
            "_view_count": null,
            "_view_module": "@jupyter-widgets/controls",
            "_view_module_version": "1.5.0",
            "_view_name": "HTMLView",
            "description": "",
            "description_tooltip": null,
            "layout": "IPY_MODEL_6dc8afc7f71d42b2a39d2455ce3b6675",
            "placeholder": "​",
            "style": "IPY_MODEL_9c67a47a8d1d4931b70e17627d218554",
            "value": "Making predictions: 100%"
          }
        },
        "6dc8afc7f71d42b2a39d2455ce3b6675": {
          "model_module": "@jupyter-widgets/base",
          "model_module_version": "1.2.0",
          "model_name": "LayoutModel",
          "state": {
            "_model_module": "@jupyter-widgets/base",
            "_model_module_version": "1.2.0",
            "_model_name": "LayoutModel",
            "_view_count": null,
            "_view_module": "@jupyter-widgets/base",
            "_view_module_version": "1.2.0",
            "_view_name": "LayoutView",
            "align_content": null,
            "align_items": null,
            "align_self": null,
            "border": null,
            "bottom": null,
            "display": null,
            "flex": null,
            "flex_flow": null,
            "grid_area": null,
            "grid_auto_columns": null,
            "grid_auto_flow": null,
            "grid_auto_rows": null,
            "grid_column": null,
            "grid_gap": null,
            "grid_row": null,
            "grid_template_areas": null,
            "grid_template_columns": null,
            "grid_template_rows": null,
            "height": null,
            "justify_content": null,
            "justify_items": null,
            "left": null,
            "margin": null,
            "max_height": null,
            "max_width": null,
            "min_height": null,
            "min_width": null,
            "object_fit": null,
            "object_position": null,
            "order": null,
            "overflow": null,
            "overflow_x": null,
            "overflow_y": null,
            "padding": null,
            "right": null,
            "top": null,
            "visibility": null,
            "width": null
          }
        },
        "757cb5b6b641438681b24182a2163ca2": {
          "model_module": "@jupyter-widgets/controls",
          "model_module_version": "1.5.0",
          "model_name": "HTMLModel",
          "state": {
            "_dom_classes": [],
            "_model_module": "@jupyter-widgets/controls",
            "_model_module_version": "1.5.0",
            "_model_name": "HTMLModel",
            "_view_count": null,
            "_view_module": "@jupyter-widgets/controls",
            "_view_module_version": "1.5.0",
            "_view_name": "HTMLView",
            "description": "",
            "description_tooltip": null,
            "layout": "IPY_MODEL_41a8349c61314a6eab14e90a40ecf422",
            "placeholder": "​",
            "style": "IPY_MODEL_bdca5cb20d6a4ae2b4b630f61226bc61",
            "value": "100%"
          }
        },
        "7a327903d3ef4fc0b85dceb103728456": {
          "model_module": "@jupyter-widgets/base",
          "model_module_version": "1.2.0",
          "model_name": "LayoutModel",
          "state": {
            "_model_module": "@jupyter-widgets/base",
            "_model_module_version": "1.2.0",
            "_model_name": "LayoutModel",
            "_view_count": null,
            "_view_module": "@jupyter-widgets/base",
            "_view_module_version": "1.2.0",
            "_view_name": "LayoutView",
            "align_content": null,
            "align_items": null,
            "align_self": null,
            "border": null,
            "bottom": null,
            "display": null,
            "flex": null,
            "flex_flow": null,
            "grid_area": null,
            "grid_auto_columns": null,
            "grid_auto_flow": null,
            "grid_auto_rows": null,
            "grid_column": null,
            "grid_gap": null,
            "grid_row": null,
            "grid_template_areas": null,
            "grid_template_columns": null,
            "grid_template_rows": null,
            "height": null,
            "justify_content": null,
            "justify_items": null,
            "left": null,
            "margin": null,
            "max_height": null,
            "max_width": null,
            "min_height": null,
            "min_width": null,
            "object_fit": null,
            "object_position": null,
            "order": null,
            "overflow": null,
            "overflow_x": null,
            "overflow_y": null,
            "padding": null,
            "right": null,
            "top": null,
            "visibility": null,
            "width": null
          }
        },
        "7d27e66bb03b470eba0dea6ef2540151": {
          "model_module": "@jupyter-widgets/controls",
          "model_module_version": "1.5.0",
          "model_name": "FloatProgressModel",
          "state": {
            "_dom_classes": [],
            "_model_module": "@jupyter-widgets/controls",
            "_model_module_version": "1.5.0",
            "_model_name": "FloatProgressModel",
            "_view_count": null,
            "_view_module": "@jupyter-widgets/controls",
            "_view_module_version": "1.5.0",
            "_view_name": "ProgressView",
            "bar_style": "success",
            "description": "",
            "description_tooltip": null,
            "layout": "IPY_MODEL_bb459d0fff3d40a8a42f76a3cba0d035",
            "max": 5,
            "min": 0,
            "orientation": "horizontal",
            "style": "IPY_MODEL_c87282c88fb94bd1b8323baf64cf33d1",
            "value": 5
          }
        },
        "83915526c0a6487587e3a351f6a01161": {
          "model_module": "@jupyter-widgets/controls",
          "model_module_version": "1.5.0",
          "model_name": "HBoxModel",
          "state": {
            "_dom_classes": [],
            "_model_module": "@jupyter-widgets/controls",
            "_model_module_version": "1.5.0",
            "_model_name": "HBoxModel",
            "_view_count": null,
            "_view_module": "@jupyter-widgets/controls",
            "_view_module_version": "1.5.0",
            "_view_name": "HBoxView",
            "box_style": "",
            "children": [
              "IPY_MODEL_6b6572383700440185373d31684bf9f7",
              "IPY_MODEL_7d27e66bb03b470eba0dea6ef2540151",
              "IPY_MODEL_03321ac18fd74805816fb697de35fffb"
            ],
            "layout": "IPY_MODEL_6828ad74c5e9444795e044ad1ee007ff"
          }
        },
        "9c67a47a8d1d4931b70e17627d218554": {
          "model_module": "@jupyter-widgets/controls",
          "model_module_version": "1.5.0",
          "model_name": "DescriptionStyleModel",
          "state": {
            "_model_module": "@jupyter-widgets/controls",
            "_model_module_version": "1.5.0",
            "_model_name": "DescriptionStyleModel",
            "_view_count": null,
            "_view_module": "@jupyter-widgets/base",
            "_view_module_version": "1.2.0",
            "_view_name": "StyleView",
            "description_width": ""
          }
        },
        "aecfe7b5d3544e7fba194da3fa959746": {
          "model_module": "@jupyter-widgets/controls",
          "model_module_version": "1.5.0",
          "model_name": "HBoxModel",
          "state": {
            "_dom_classes": [],
            "_model_module": "@jupyter-widgets/controls",
            "_model_module_version": "1.5.0",
            "_model_name": "HBoxModel",
            "_view_count": null,
            "_view_module": "@jupyter-widgets/controls",
            "_view_module_version": "1.5.0",
            "_view_name": "HBoxView",
            "box_style": "",
            "children": [
              "IPY_MODEL_757cb5b6b641438681b24182a2163ca2",
              "IPY_MODEL_03081ab6a2704dd2bf6fc6af79491beb",
              "IPY_MODEL_c563d3c4417d46b89b44d8e2c010d604"
            ],
            "layout": "IPY_MODEL_7a327903d3ef4fc0b85dceb103728456"
          }
        },
        "bb459d0fff3d40a8a42f76a3cba0d035": {
          "model_module": "@jupyter-widgets/base",
          "model_module_version": "1.2.0",
          "model_name": "LayoutModel",
          "state": {
            "_model_module": "@jupyter-widgets/base",
            "_model_module_version": "1.2.0",
            "_model_name": "LayoutModel",
            "_view_count": null,
            "_view_module": "@jupyter-widgets/base",
            "_view_module_version": "1.2.0",
            "_view_name": "LayoutView",
            "align_content": null,
            "align_items": null,
            "align_self": null,
            "border": null,
            "bottom": null,
            "display": null,
            "flex": null,
            "flex_flow": null,
            "grid_area": null,
            "grid_auto_columns": null,
            "grid_auto_flow": null,
            "grid_auto_rows": null,
            "grid_column": null,
            "grid_gap": null,
            "grid_row": null,
            "grid_template_areas": null,
            "grid_template_columns": null,
            "grid_template_rows": null,
            "height": null,
            "justify_content": null,
            "justify_items": null,
            "left": null,
            "margin": null,
            "max_height": null,
            "max_width": null,
            "min_height": null,
            "min_width": null,
            "object_fit": null,
            "object_position": null,
            "order": null,
            "overflow": null,
            "overflow_x": null,
            "overflow_y": null,
            "padding": null,
            "right": null,
            "top": null,
            "visibility": null,
            "width": null
          }
        },
        "bdca5cb20d6a4ae2b4b630f61226bc61": {
          "model_module": "@jupyter-widgets/controls",
          "model_module_version": "1.5.0",
          "model_name": "DescriptionStyleModel",
          "state": {
            "_model_module": "@jupyter-widgets/controls",
            "_model_module_version": "1.5.0",
            "_model_name": "DescriptionStyleModel",
            "_view_count": null,
            "_view_module": "@jupyter-widgets/base",
            "_view_module_version": "1.2.0",
            "_view_name": "StyleView",
            "description_width": ""
          }
        },
        "c47f213432c246e38d4f9349eb3a00a0": {
          "model_module": "@jupyter-widgets/controls",
          "model_module_version": "1.5.0",
          "model_name": "DescriptionStyleModel",
          "state": {
            "_model_module": "@jupyter-widgets/controls",
            "_model_module_version": "1.5.0",
            "_model_name": "DescriptionStyleModel",
            "_view_count": null,
            "_view_module": "@jupyter-widgets/base",
            "_view_module_version": "1.2.0",
            "_view_name": "StyleView",
            "description_width": ""
          }
        },
        "c563d3c4417d46b89b44d8e2c010d604": {
          "model_module": "@jupyter-widgets/controls",
          "model_module_version": "1.5.0",
          "model_name": "HTMLModel",
          "state": {
            "_dom_classes": [],
            "_model_module": "@jupyter-widgets/controls",
            "_model_module_version": "1.5.0",
            "_model_name": "HTMLModel",
            "_view_count": null,
            "_view_module": "@jupyter-widgets/controls",
            "_view_module_version": "1.5.0",
            "_view_name": "HTMLView",
            "description": "",
            "description_tooltip": null,
            "layout": "IPY_MODEL_4dcd14872d4c4237a399c19f2b663c77",
            "placeholder": "​",
            "style": "IPY_MODEL_f1e7037f2a4440d1a777fa7cc7a90739",
            "value": " 20/20 [02:11&lt;00:00,  6.05s/it]"
          }
        },
        "c87282c88fb94bd1b8323baf64cf33d1": {
          "model_module": "@jupyter-widgets/controls",
          "model_module_version": "1.5.0",
          "model_name": "ProgressStyleModel",
          "state": {
            "_model_module": "@jupyter-widgets/controls",
            "_model_module_version": "1.5.0",
            "_model_name": "ProgressStyleModel",
            "_view_count": null,
            "_view_module": "@jupyter-widgets/base",
            "_view_module_version": "1.2.0",
            "_view_name": "StyleView",
            "bar_color": null,
            "description_width": ""
          }
        },
        "f1e7037f2a4440d1a777fa7cc7a90739": {
          "model_module": "@jupyter-widgets/controls",
          "model_module_version": "1.5.0",
          "model_name": "DescriptionStyleModel",
          "state": {
            "_model_module": "@jupyter-widgets/controls",
            "_model_module_version": "1.5.0",
            "_model_name": "DescriptionStyleModel",
            "_view_count": null,
            "_view_module": "@jupyter-widgets/base",
            "_view_module_version": "1.2.0",
            "_view_name": "StyleView",
            "description_width": ""
          }
        }
      }
    }
  },
  "nbformat": 4,
  "nbformat_minor": 0
}
