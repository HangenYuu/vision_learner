{
 "cells": [
  {
   "cell_type": "markdown",
   "metadata": {
    "id": "fsllU_3CmNfC"
   },
   "source": [
    "# PyTorch routine\n",
    "For a total beginener to PyTorch, visit this [website](https://www.learnpytorch.io/)"
   ]
  },
  {
   "cell_type": "markdown",
   "metadata": {
    "id": "mk_KJztpmPqn"
   },
   "source": [
    "## 0. Setting up on Colab\n",
    "Without a GPU, I always need to rely on Google Colab to train my model. A Colab instance is always come prepared with torch, but in case it does not, you need to set up with `pip`. I often install other modules to help with the post-training process. You need to pay Google for a CLI, but you could also make do with the code cell!\n"
   ]
  },
  {
   "cell_type": "code",
   "execution_count": null,
   "metadata": {
    "colab": {
     "base_uri": "https://localhost:8080/"
    },
    "id": "xGcIRcRBmL6F",
    "outputId": "ee4fb18e-1cb4-4a64-d83c-58c14219761f"
   },
   "outputs": [
    {
     "name": "stdout",
     "output_type": "stream",
     "text": [
      "Looking in indexes: https://pypi.org/simple, https://us-python.pkg.dev/colab-wheels/public/simple/\n",
      "Requirement already satisfied: torch in /usr/local/lib/python3.8/dist-packages (1.13.0+cu116)\n",
      "Collecting torchmetrics\n",
      "  Downloading torchmetrics-0.11.0-py3-none-any.whl (512 kB)\n",
      "\u001b[K     |████████████████████████████████| 512 kB 4.5 MB/s \n",
      "\u001b[?25hRequirement already satisfied: mlxtend in /usr/local/lib/python3.8/dist-packages (0.14.0)\n",
      "Requirement already satisfied: typing-extensions in /usr/local/lib/python3.8/dist-packages (from torch) (4.4.0)\n",
      "Requirement already satisfied: packaging in /usr/local/lib/python3.8/dist-packages (from torchmetrics) (21.3)\n",
      "Requirement already satisfied: numpy>=1.17.2 in /usr/local/lib/python3.8/dist-packages (from torchmetrics) (1.21.6)\n",
      "Requirement already satisfied: setuptools in /usr/local/lib/python3.8/dist-packages (from mlxtend) (57.4.0)\n",
      "Requirement already satisfied: pandas>=0.17.1 in /usr/local/lib/python3.8/dist-packages (from mlxtend) (1.3.5)\n",
      "Requirement already satisfied: scikit-learn>=0.18 in /usr/local/lib/python3.8/dist-packages (from mlxtend) (1.0.2)\n",
      "Requirement already satisfied: matplotlib>=1.5.1 in /usr/local/lib/python3.8/dist-packages (from mlxtend) (3.2.2)\n",
      "Requirement already satisfied: scipy>=0.17 in /usr/local/lib/python3.8/dist-packages (from mlxtend) (1.7.3)\n",
      "Requirement already satisfied: pyparsing!=2.0.4,!=2.1.2,!=2.1.6,>=2.0.1 in /usr/local/lib/python3.8/dist-packages (from matplotlib>=1.5.1->mlxtend) (3.0.9)\n",
      "Requirement already satisfied: python-dateutil>=2.1 in /usr/local/lib/python3.8/dist-packages (from matplotlib>=1.5.1->mlxtend) (2.8.2)\n",
      "Requirement already satisfied: cycler>=0.10 in /usr/local/lib/python3.8/dist-packages (from matplotlib>=1.5.1->mlxtend) (0.11.0)\n",
      "Requirement already satisfied: kiwisolver>=1.0.1 in /usr/local/lib/python3.8/dist-packages (from matplotlib>=1.5.1->mlxtend) (1.4.4)\n",
      "Requirement already satisfied: pytz>=2017.3 in /usr/local/lib/python3.8/dist-packages (from pandas>=0.17.1->mlxtend) (2022.6)\n",
      "Requirement already satisfied: six>=1.5 in /usr/local/lib/python3.8/dist-packages (from python-dateutil>=2.1->matplotlib>=1.5.1->mlxtend) (1.15.0)\n",
      "Requirement already satisfied: joblib>=0.11 in /usr/local/lib/python3.8/dist-packages (from scikit-learn>=0.18->mlxtend) (1.2.0)\n",
      "Requirement already satisfied: threadpoolctl>=2.0.0 in /usr/local/lib/python3.8/dist-packages (from scikit-learn>=0.18->mlxtend) (3.1.0)\n",
      "Installing collected packages: torchmetrics\n",
      "Successfully installed torchmetrics-0.11.0\n"
     ]
    }
   ],
   "source": [
    "!pip install torch torchmetrics mlxtend"
   ]
  },
  {
   "cell_type": "code",
   "execution_count": null,
   "metadata": {
    "colab": {
     "base_uri": "https://localhost:8080/"
    },
    "id": "5p58VPsOqyfP",
    "outputId": "98973992-4451-4f53-dece-f68684c7fc4c"
   },
   "outputs": [
    {
     "name": "stdout",
     "output_type": "stream",
     "text": [
      "Looking in indexes: https://pypi.org/simple, https://us-python.pkg.dev/colab-wheels/public/simple/\n",
      "Requirement already satisfied: mlxtend in /usr/local/lib/python3.8/dist-packages (0.14.0)\n",
      "Collecting mlxtend\n",
      "  Downloading mlxtend-0.21.0-py2.py3-none-any.whl (1.3 MB)\n",
      "\u001b[K     |████████████████████████████████| 1.3 MB 4.9 MB/s \n",
      "\u001b[?25hRequirement already satisfied: scikit-learn>=1.0.2 in /usr/local/lib/python3.8/dist-packages (from mlxtend) (1.0.2)\n",
      "Requirement already satisfied: matplotlib>=3.0.0 in /usr/local/lib/python3.8/dist-packages (from mlxtend) (3.2.2)\n",
      "Requirement already satisfied: setuptools in /usr/local/lib/python3.8/dist-packages (from mlxtend) (57.4.0)\n",
      "Requirement already satisfied: scipy>=1.2.1 in /usr/local/lib/python3.8/dist-packages (from mlxtend) (1.7.3)\n",
      "Requirement already satisfied: numpy>=1.16.2 in /usr/local/lib/python3.8/dist-packages (from mlxtend) (1.21.6)\n",
      "Requirement already satisfied: joblib>=0.13.2 in /usr/local/lib/python3.8/dist-packages (from mlxtend) (1.2.0)\n",
      "Requirement already satisfied: pandas>=0.24.2 in /usr/local/lib/python3.8/dist-packages (from mlxtend) (1.3.5)\n",
      "Requirement already satisfied: pyparsing!=2.0.4,!=2.1.2,!=2.1.6,>=2.0.1 in /usr/local/lib/python3.8/dist-packages (from matplotlib>=3.0.0->mlxtend) (3.0.9)\n",
      "Requirement already satisfied: kiwisolver>=1.0.1 in /usr/local/lib/python3.8/dist-packages (from matplotlib>=3.0.0->mlxtend) (1.4.4)\n",
      "Requirement already satisfied: cycler>=0.10 in /usr/local/lib/python3.8/dist-packages (from matplotlib>=3.0.0->mlxtend) (0.11.0)\n",
      "Requirement already satisfied: python-dateutil>=2.1 in /usr/local/lib/python3.8/dist-packages (from matplotlib>=3.0.0->mlxtend) (2.8.2)\n",
      "Requirement already satisfied: pytz>=2017.3 in /usr/local/lib/python3.8/dist-packages (from pandas>=0.24.2->mlxtend) (2022.6)\n",
      "Requirement already satisfied: six>=1.5 in /usr/local/lib/python3.8/dist-packages (from python-dateutil>=2.1->matplotlib>=3.0.0->mlxtend) (1.15.0)\n",
      "Requirement already satisfied: threadpoolctl>=2.0.0 in /usr/local/lib/python3.8/dist-packages (from scikit-learn>=1.0.2->mlxtend) (3.1.0)\n",
      "Installing collected packages: mlxtend\n",
      "  Attempting uninstall: mlxtend\n",
      "    Found existing installation: mlxtend 0.14.0\n",
      "    Uninstalling mlxtend-0.14.0:\n",
      "      Successfully uninstalled mlxtend-0.14.0\n",
      "Successfully installed mlxtend-0.21.0\n"
     ]
    }
   ],
   "source": [
    "!pip install --upgrade mlxtend"
   ]
  },
  {
   "cell_type": "code",
   "execution_count": null,
   "metadata": {
    "id": "LNVwD8SinDdI"
   },
   "outputs": [],
   "source": [
    "# Any other of your choice!"
   ]
  },
  {
   "cell_type": "markdown",
   "metadata": {
    "id": "GPZ9vbbanPd_"
   },
   "source": [
    "## 1. Import modules"
   ]
  },
  {
   "cell_type": "code",
   "execution_count": null,
   "metadata": {
    "id": "YK276IV7nOxb"
   },
   "outputs": [],
   "source": [
    "# Generic torch process\n",
    "from torch import nn\n",
    "import torch\n",
    "from torch.utils.data import DataLoader\n",
    "\n",
    "# Specifically for computer vision\n",
    "import torchvision\n",
    "from torchvision import datasets\n",
    "from torchvision.transforms import ToTensor #Among others\n",
    "\n",
    "# For post-training process\n",
    "from torchmetrics import ConfusionMatrix, Accuracy #Among others\n",
    "from mlxtend.plotting import plot_confusion_matrix #Among others\n",
    "\n",
    "# Import tqdm for progress bar\n",
    "from tqdm.auto import tqdm\n",
    "\n",
    "# Other module(s)\n",
    "import matplotlib.pyplot as plt\n",
    "import gc"
   ]
  },
  {
   "cell_type": "markdown",
   "metadata": {
    "id": "60tsiFuPzcWA"
   },
   "source": [
    "### A piece of device-agnostic code"
   ]
  },
  {
   "cell_type": "code",
   "execution_count": null,
   "metadata": {
    "id": "r9Ys0SkyzYaY"
   },
   "outputs": [],
   "source": [
    "device = 'cuda' if torch.cuda.is_available() else 'cpu'"
   ]
  },
  {
   "cell_type": "markdown",
   "metadata": {
    "id": "BLs86rYOoKlv"
   },
   "source": [
    "## 2. Loading data\n",
    "You load dataset in with `datasets`, and get them ready for the model with `DataLoader`, applying all the transformation you want or need.\n",
    "\n",
    "The example is for the classic dataset - ~~MNIST~~ Kuzushiji-MNIST!"
   ]
  },
  {
   "cell_type": "code",
   "execution_count": null,
   "metadata": {
    "colab": {
     "base_uri": "https://localhost:8080/",
     "height": 423,
     "referenced_widgets": [
      "68675b9ca5c44ae5a7dfb68ec54bb18d",
      "b067e6dcb9be4dd68099522484329e3a",
      "dd3cedcff4f54b29aefba5a6b668b89d",
      "478255ddcd954c80a8c392c5fea753df",
      "13cb4552bab74028a8436aec1684c35e",
      "aadd3cc1eb2647d9872c5a69ab5e375a",
      "ab1cc784e1624dc69561672467d7a5e0",
      "be81b6806c5f4f4b809fc34fe8a9cfcb",
      "5c797f5f8d2c49c7acbda622b616035b",
      "a7632e5cfdf348c696cdf25f0b2f3c21",
      "5815ca26b4ee4e2991e26a24d6cdb099",
      "feed1c9d09a04cdcae4250bd1fd275bf",
      "9aae477e43224f0eb52476033c06dd26",
      "6249ea43a4624cb3ad4f2f0aa480434f",
      "7b38f28839cb4d52924b1fdd5788b184",
      "dfcd3d2030eb40bda28a24708620836e",
      "80b816c0c55d4ab6a1c412e1d25d2f99",
      "b9a510519ce44b97b0796ac2a704356a",
      "a5cfac8a65b54769875c0d705c1fa700",
      "f18b7dee2beb4970b8190c341c2d405f",
      "1cfbd416b83e45668c5ddb1894e8f6a3",
      "234be4d4d4db4e99a643c169a17431d6",
      "782bdb0723d04ed79e81a97fa0f0d04f",
      "e6d967a68fe248aebb055074b6baffb6",
      "7ea62ecc0bcd4540ad388fca97d04a6e",
      "e1366966d94d4c0d843ffa7acdff4778",
      "c11739993b1b4359b2049be4eaa5b985",
      "fa3c3945a0c24957861759fa73a6c170",
      "3784cfd0fe354186a531ae3d32e708be",
      "b9c6c87a2d7c4896b043cb06b5a7a6ef",
      "2b1621418573441aa2f868ff978ac45e",
      "ceadae9973ff404f93dc236ba12610b3",
      "fcaa0aedaad54e5791ed9058079aef43",
      "4b03e67800bb4c56bc6a3cba16333504",
      "6e3292f58637438d8221ff946434a3ab",
      "b3de6e9c73ee4ab491ec06bac64248e0",
      "139d0ac568b945d594d0d32fb6fd73a7",
      "b722de25fc9c4815a2126e63788ecbd1",
      "7d5a059d228b4bd5a36589d60e51f064",
      "1600abc1b6af4e038542b38d9a454594",
      "0539131463f94f98bea199b179fe0a18",
      "eafe9392f9434f298f002821e3e865ab",
      "1644fd627c174559990f8aa33cc0c685",
      "7604a28f454148c7ac982eaabeb953f7"
     ]
    },
    "id": "9YNp6U66oJBG",
    "outputId": "ff244a1a-e094-42c1-8432-7841342104bd"
   },
   "outputs": [
    {
     "name": "stdout",
     "output_type": "stream",
     "text": [
      "Downloading http://codh.rois.ac.jp/kmnist/dataset/kmnist/train-images-idx3-ubyte.gz\n",
      "Downloading http://codh.rois.ac.jp/kmnist/dataset/kmnist/train-images-idx3-ubyte.gz to DATA/KMNIST/raw/train-images-idx3-ubyte.gz\n"
     ]
    },
    {
     "data": {
      "application/vnd.jupyter.widget-view+json": {
       "model_id": "68675b9ca5c44ae5a7dfb68ec54bb18d",
       "version_major": 2,
       "version_minor": 0
      },
      "text/plain": [
       "  0%|          | 0/18165135 [00:00<?, ?it/s]"
      ]
     },
     "metadata": {},
     "output_type": "display_data"
    },
    {
     "name": "stdout",
     "output_type": "stream",
     "text": [
      "Extracting DATA/KMNIST/raw/train-images-idx3-ubyte.gz to DATA/KMNIST/raw\n",
      "\n",
      "Downloading http://codh.rois.ac.jp/kmnist/dataset/kmnist/train-labels-idx1-ubyte.gz\n",
      "Downloading http://codh.rois.ac.jp/kmnist/dataset/kmnist/train-labels-idx1-ubyte.gz to DATA/KMNIST/raw/train-labels-idx1-ubyte.gz\n"
     ]
    },
    {
     "data": {
      "application/vnd.jupyter.widget-view+json": {
       "model_id": "feed1c9d09a04cdcae4250bd1fd275bf",
       "version_major": 2,
       "version_minor": 0
      },
      "text/plain": [
       "  0%|          | 0/29497 [00:00<?, ?it/s]"
      ]
     },
     "metadata": {},
     "output_type": "display_data"
    },
    {
     "name": "stdout",
     "output_type": "stream",
     "text": [
      "Extracting DATA/KMNIST/raw/train-labels-idx1-ubyte.gz to DATA/KMNIST/raw\n",
      "\n",
      "Downloading http://codh.rois.ac.jp/kmnist/dataset/kmnist/t10k-images-idx3-ubyte.gz\n",
      "Downloading http://codh.rois.ac.jp/kmnist/dataset/kmnist/t10k-images-idx3-ubyte.gz to DATA/KMNIST/raw/t10k-images-idx3-ubyte.gz\n"
     ]
    },
    {
     "data": {
      "application/vnd.jupyter.widget-view+json": {
       "model_id": "782bdb0723d04ed79e81a97fa0f0d04f",
       "version_major": 2,
       "version_minor": 0
      },
      "text/plain": [
       "  0%|          | 0/3041136 [00:00<?, ?it/s]"
      ]
     },
     "metadata": {},
     "output_type": "display_data"
    },
    {
     "name": "stdout",
     "output_type": "stream",
     "text": [
      "Extracting DATA/KMNIST/raw/t10k-images-idx3-ubyte.gz to DATA/KMNIST/raw\n",
      "\n",
      "Downloading http://codh.rois.ac.jp/kmnist/dataset/kmnist/t10k-labels-idx1-ubyte.gz\n",
      "Downloading http://codh.rois.ac.jp/kmnist/dataset/kmnist/t10k-labels-idx1-ubyte.gz to DATA/KMNIST/raw/t10k-labels-idx1-ubyte.gz\n"
     ]
    },
    {
     "data": {
      "application/vnd.jupyter.widget-view+json": {
       "model_id": "4b03e67800bb4c56bc6a3cba16333504",
       "version_major": 2,
       "version_minor": 0
      },
      "text/plain": [
       "  0%|          | 0/5120 [00:00<?, ?it/s]"
      ]
     },
     "metadata": {},
     "output_type": "display_data"
    },
    {
     "name": "stdout",
     "output_type": "stream",
     "text": [
      "Extracting DATA/KMNIST/raw/t10k-labels-idx1-ubyte.gz to DATA/KMNIST/raw\n",
      "\n"
     ]
    }
   ],
   "source": [
    "train_data = datasets.KMNIST(root='DATA',\n",
    "                                   transform=ToTensor(),\n",
    "                                   download=True)\n",
    "\n",
    "test_data = datasets.KMNIST(root='DATA',\n",
    "                                  transform=ToTensor(),\n",
    "                                  download=True,\n",
    "                                  train=False)"
   ]
  },
  {
   "cell_type": "code",
   "execution_count": null,
   "metadata": {
    "colab": {
     "base_uri": "https://localhost:8080/"
    },
    "id": "HT5DfGAUpuX3",
    "outputId": "3617c284-91c1-4052-ace1-20875c6ba8a2"
   },
   "outputs": [
    {
     "data": {
      "text/plain": [
       "(tensor([[[0.0000, 0.0000, 0.0000, 0.0000, 0.0000, 0.0000, 0.0000, 0.0000,\n",
       "           0.0000, 0.0000, 0.0000, 0.4627, 1.0000, 1.0000, 0.4863, 0.0039,\n",
       "           0.0000, 0.0000, 0.0000, 0.0000, 0.0000, 0.0000, 0.0000, 0.0000,\n",
       "           0.0000, 0.0000, 0.0000, 0.0000],\n",
       "          [0.0000, 0.0000, 0.0000, 0.0000, 0.0000, 0.0000, 0.0000, 0.0000,\n",
       "           0.0000, 0.0000, 0.1412, 0.9333, 1.0000, 0.5725, 0.0078, 0.0000,\n",
       "           0.0000, 0.0000, 0.0000, 0.0000, 0.0000, 0.0000, 0.0000, 0.0000,\n",
       "           0.0000, 0.0000, 0.0000, 0.0000],\n",
       "          [0.0000, 0.0000, 0.0000, 0.0000, 0.0000, 0.0000, 0.0000, 0.0000,\n",
       "           0.0000, 0.0471, 0.7961, 1.0000, 0.8627, 0.0549, 0.0000, 0.0000,\n",
       "           0.0000, 0.0431, 0.5176, 0.3725, 0.7333, 0.3725, 0.0000, 0.0000,\n",
       "           0.0000, 0.0000, 0.0000, 0.0000],\n",
       "          [0.0000, 0.0000, 0.0000, 0.0000, 0.0000, 0.0000, 0.0000, 0.0000,\n",
       "           0.0000, 0.5843, 1.0000, 0.9843, 0.2588, 0.0000, 0.0000, 0.0000,\n",
       "           0.0275, 0.6588, 0.5333, 0.0392, 0.8745, 0.9608, 0.2627, 0.0000,\n",
       "           0.0000, 0.0000, 0.0000, 0.0000],\n",
       "          [0.0000, 0.0000, 0.0000, 0.0000, 0.0000, 0.0000, 0.0000, 0.0000,\n",
       "           0.2000, 0.9686, 1.0000, 0.6118, 0.0039, 0.0000, 0.0000, 0.0000,\n",
       "           0.5098, 0.7882, 0.0353, 0.0000, 0.6196, 1.0000, 0.6667, 0.0000,\n",
       "           0.0000, 0.0000, 0.0000, 0.0000],\n",
       "          [0.0000, 0.0000, 0.0000, 0.0000, 0.0000, 0.0000, 0.0000, 0.0431,\n",
       "           0.8314, 1.0000, 0.8863, 0.0863, 0.0000, 0.0000, 0.0000, 0.3098,\n",
       "           0.9412, 0.1490, 0.0000, 0.0000, 0.5608, 1.0000, 0.7725, 0.0000,\n",
       "           0.0000, 0.0000, 0.0000, 0.0000],\n",
       "          [0.0000, 0.0000, 0.0000, 0.0000, 0.0000, 0.0000, 0.0000, 0.5804,\n",
       "           1.0000, 1.0000, 0.4196, 0.0000, 0.0000, 0.0000, 0.1294, 0.9294,\n",
       "           0.4745, 0.0000, 0.0000, 0.0000, 0.5647, 1.0000, 0.8706, 0.0000,\n",
       "           0.0000, 0.0000, 0.0000, 0.0000],\n",
       "          [0.0000, 0.0000, 0.0000, 0.0000, 0.0000, 0.0000, 0.0000, 0.8039,\n",
       "           1.0000, 0.6980, 0.0118, 0.0000, 0.0000, 0.0039, 0.7020, 0.8157,\n",
       "           0.0196, 0.0000, 0.0000, 0.0000, 0.4941, 1.0000, 0.6510, 0.0000,\n",
       "           0.0000, 0.0000, 0.0000, 0.0000],\n",
       "          [0.0000, 0.0000, 0.0000, 0.0000, 0.0000, 0.0000, 0.0275, 0.9608,\n",
       "           1.0000, 0.2980, 0.0000, 0.0000, 0.0000, 0.4863, 0.9961, 0.4235,\n",
       "           0.0000, 0.0000, 0.0000, 0.0000, 0.3569, 1.0000, 0.6118, 0.0000,\n",
       "           0.0000, 0.0000, 0.0000, 0.0000],\n",
       "          [0.0000, 0.0000, 0.0000, 0.0000, 0.0000, 0.0000, 0.0902, 1.0000,\n",
       "           0.9373, 0.0471, 0.0000, 0.0000, 0.2431, 0.9804, 0.8824, 0.0314,\n",
       "           0.0000, 0.0000, 0.0000, 0.0000, 0.3059, 1.0000, 0.7725, 0.0000,\n",
       "           0.0000, 0.0000, 0.0000, 0.0000],\n",
       "          [0.0000, 0.0000, 0.0000, 0.0000, 0.0000, 0.0000, 0.1882, 1.0000,\n",
       "           0.7529, 0.0000, 0.0000, 0.0627, 0.8118, 0.9882, 0.3294, 0.0000,\n",
       "           0.0000, 0.0000, 0.0000, 0.0000, 0.3176, 1.0000, 0.6980, 0.0000,\n",
       "           0.0000, 0.0000, 0.0000, 0.0000],\n",
       "          [0.0000, 0.0000, 0.0000, 0.0000, 0.0000, 0.0000, 0.2078, 1.0000,\n",
       "           0.5804, 0.0000, 0.0000, 0.5216, 1.0000, 0.5804, 0.0000, 0.0000,\n",
       "           0.0000, 0.0000, 0.0000, 0.0000, 0.2863, 1.0000, 0.6157, 0.0000,\n",
       "           0.0000, 0.0000, 0.0000, 0.0000],\n",
       "          [0.0000, 0.0000, 0.0000, 0.0000, 0.0000, 0.0000, 0.3725, 1.0000,\n",
       "           0.5608, 0.0000, 0.4118, 0.9882, 0.8627, 0.0667, 0.0000, 0.0000,\n",
       "           0.0000, 0.0000, 0.0000, 0.0000, 0.3098, 1.0000, 0.3765, 0.0000,\n",
       "           0.0000, 0.0000, 0.0000, 0.0000],\n",
       "          [0.0000, 0.0000, 0.0000, 0.0000, 0.0000, 0.0000, 0.5843, 1.0000,\n",
       "           0.4745, 0.2275, 0.9647, 0.9961, 0.3098, 0.0000, 0.0000, 0.0000,\n",
       "           0.0000, 0.0275, 0.2078, 0.0039, 0.4000, 1.0000, 0.3922, 0.0000,\n",
       "           0.0000, 0.0000, 0.0000, 0.0000],\n",
       "          [0.0000, 0.0000, 0.0000, 0.0000, 0.0000, 0.0000, 0.7922, 1.0000,\n",
       "           0.8353, 0.9137, 1.0000, 0.7294, 0.0078, 0.0000, 0.0000, 0.0000,\n",
       "           0.0000, 0.0000, 0.0392, 0.1843, 0.5176, 1.0000, 0.3804, 0.0000,\n",
       "           0.0000, 0.0000, 0.0000, 0.0000],\n",
       "          [0.0000, 0.0000, 0.0000, 0.0000, 0.0000, 0.0627, 0.9647, 1.0000,\n",
       "           1.0000, 1.0000, 0.9020, 0.0745, 0.0000, 0.0000, 0.0000, 0.0000,\n",
       "           0.0000, 0.0000, 0.0000, 0.0000, 0.5647, 1.0000, 0.3725, 0.0000,\n",
       "           0.0000, 0.0000, 0.0000, 0.0000],\n",
       "          [0.0000, 0.0000, 0.0000, 0.0000, 0.0000, 0.3490, 1.0000, 1.0000,\n",
       "           1.0000, 0.9529, 0.2784, 0.0000, 0.0000, 0.0000, 0.0000, 0.0000,\n",
       "           0.0000, 0.0000, 0.0000, 0.0000, 0.6157, 1.0000, 0.4118, 0.0000,\n",
       "           0.0000, 0.0000, 0.0000, 0.0000],\n",
       "          [0.0000, 0.0000, 0.0000, 0.0000, 0.0000, 0.7529, 1.0000, 1.0000,\n",
       "           0.9961, 0.2118, 0.0000, 0.0000, 0.0000, 0.0000, 0.0000, 0.0000,\n",
       "           0.0000, 0.0000, 0.0000, 0.0000, 0.7412, 1.0000, 0.4078, 0.0000,\n",
       "           0.0000, 0.0000, 0.0000, 0.0000],\n",
       "          [0.0000, 0.0000, 0.0000, 0.0000, 0.1765, 0.9882, 1.0000, 1.0000,\n",
       "           0.9882, 0.1098, 0.0000, 0.0000, 0.0000, 0.0000, 0.0000, 0.0000,\n",
       "           0.0000, 0.0000, 0.0000, 0.0118, 0.9137, 1.0000, 0.4549, 0.0000,\n",
       "           0.0000, 0.0000, 0.0000, 0.0000],\n",
       "          [0.0000, 0.0000, 0.0000, 0.0000, 0.6314, 1.0000, 1.0000, 1.0000,\n",
       "           0.9843, 0.0902, 0.0000, 0.0000, 0.0000, 0.0000, 0.0000, 0.0000,\n",
       "           0.0000, 0.0000, 0.0000, 0.0039, 0.8745, 1.0000, 0.6980, 0.0275,\n",
       "           0.0000, 0.0000, 0.0000, 0.0000],\n",
       "          [0.0000, 0.0000, 0.0000, 0.2196, 0.9882, 1.0000, 1.0000, 1.0000,\n",
       "           0.9765, 0.0667, 0.0000, 0.0000, 0.0000, 0.0000, 0.0000, 0.0000,\n",
       "           0.0000, 0.0000, 0.0000, 0.0000, 0.6235, 1.0000, 1.0000, 0.7098,\n",
       "           0.0471, 0.0000, 0.0000, 0.0000],\n",
       "          [0.0000, 0.0000, 0.0000, 0.7059, 1.0000, 1.0000, 1.0000, 1.0000,\n",
       "           0.9804, 0.0706, 0.0000, 0.0000, 0.0000, 0.0000, 0.0000, 0.0000,\n",
       "           0.0000, 0.0000, 0.0000, 0.0000, 0.1529, 0.9608, 1.0000, 1.0000,\n",
       "           0.6941, 0.0000, 0.0000, 0.0000],\n",
       "          [0.0000, 0.0000, 0.0588, 0.9882, 1.0000, 1.0000, 1.0000, 1.0000,\n",
       "           0.9294, 0.0196, 0.0000, 0.0000, 0.0000, 0.0000, 0.0000, 0.0000,\n",
       "           0.0000, 0.0000, 0.0000, 0.0000, 0.0000, 0.3804, 0.9922, 1.0000,\n",
       "           0.9059, 0.0000, 0.0000, 0.0000],\n",
       "          [0.0000, 0.0000, 0.0667, 0.9961, 0.9529, 0.8784, 1.0000, 1.0000,\n",
       "           0.9373, 0.0235, 0.0000, 0.0000, 0.0000, 0.0000, 0.0000, 0.0000,\n",
       "           0.0000, 0.0000, 0.0000, 0.0000, 0.0000, 0.0941, 0.9451, 1.0000,\n",
       "           0.8353, 0.0000, 0.0000, 0.0000],\n",
       "          [0.0000, 0.0000, 0.0196, 0.5882, 0.2745, 0.4039, 1.0000, 1.0000,\n",
       "           0.6588, 0.0000, 0.0000, 0.0000, 0.0000, 0.0000, 0.0000, 0.0000,\n",
       "           0.0000, 0.0000, 0.0000, 0.0000, 0.1373, 0.8706, 1.0000, 0.6824,\n",
       "           0.0824, 0.0000, 0.0000, 0.0000],\n",
       "          [0.0000, 0.0000, 0.0000, 0.0000, 0.0000, 0.2549, 1.0000, 0.9961,\n",
       "           0.2431, 0.0000, 0.0000, 0.0000, 0.0000, 0.0000, 0.0000, 0.0000,\n",
       "           0.0000, 0.0000, 0.0000, 0.2314, 0.8902, 0.9647, 0.3647, 0.0078,\n",
       "           0.0000, 0.0000, 0.0000, 0.0000],\n",
       "          [0.0000, 0.0000, 0.0000, 0.0000, 0.0000, 0.1176, 0.9922, 0.7294,\n",
       "           0.0078, 0.0000, 0.0000, 0.0000, 0.0000, 0.0000, 0.0000, 0.0000,\n",
       "           0.0000, 0.0000, 0.0941, 0.9412, 0.9412, 0.2980, 0.0000, 0.0000,\n",
       "           0.0000, 0.0000, 0.0000, 0.0000],\n",
       "          [0.0000, 0.0000, 0.0000, 0.0000, 0.0000, 0.0314, 0.5647, 0.1020,\n",
       "           0.0000, 0.0000, 0.0000, 0.0000, 0.0000, 0.0000, 0.0000, 0.0000,\n",
       "           0.0000, 0.0000, 0.4784, 1.0000, 0.3529, 0.0000, 0.0000, 0.0000,\n",
       "           0.0000, 0.0000, 0.0000, 0.0000]]]), 8)"
      ]
     },
     "execution_count": 7,
     "metadata": {},
     "output_type": "execute_result"
    }
   ],
   "source": [
    "# Exploring training example\n",
    "image, label = train_data[0]\n",
    "image, label"
   ]
  },
  {
   "cell_type": "code",
   "execution_count": null,
   "metadata": {
    "colab": {
     "base_uri": "https://localhost:8080/",
     "height": 265
    },
    "id": "nbB9LFM0p0ln",
    "outputId": "cd46f936-a196-4913-d105-df2f1f71d036"
   },
   "outputs": [
    {
     "data": {
      "image/png": "[encoded data removed]",
      "text/plain": [
       "<Figure size 432x288 with 1 Axes>"
      ]
     },
     "metadata": {
      "needs_background": "light"
     },
     "output_type": "display_data"
    }
   ],
   "source": [
    "plt.imshow(image.squeeze());"
   ]
  },
  {
   "cell_type": "code",
   "execution_count": null,
   "metadata": {
    "colab": {
     "base_uri": "https://localhost:8080/"
    },
    "id": "lc2qaPVDqqqe",
    "outputId": "d3f3e5b1-8e12-429c-83ee-67fb387f1479"
   },
   "outputs": [
    {
     "data": {
      "text/plain": [
       "['o', 'ki', 'su', 'tsu', 'na', 'ha', 'ma', 'ya', 're', 'wo']"
      ]
     },
     "execution_count": 9,
     "metadata": {},
     "output_type": "execute_result"
    }
   ],
   "source": [
    "class_names = train_data.classes\n",
    "class_names"
   ]
  },
  {
   "cell_type": "code",
   "execution_count": null,
   "metadata": {
    "id": "DgJ1YO3Ap3VI"
   },
   "outputs": [],
   "source": [
    "# Creating DataLoader object\n",
    "BATCH_SIZE = 2048 # Adjust the batch size based on GPU RAM\n",
    "\n",
    "TrainLoader = DataLoader(train_data, BATCH_SIZE, shuffle=True)\n",
    "TestLoader = DataLoader(test_data, BATCH_SIZE, shuffle=False)"
   ]
  },
  {
   "cell_type": "code",
   "execution_count": null,
   "metadata": {
    "colab": {
     "base_uri": "https://localhost:8080/"
    },
    "id": "vYv14sRaqjXH",
    "outputId": "75ca42e0-4dbb-46e2-a95a-c695839ef652"
   },
   "outputs": [
    {
     "name": "stdout",
     "output_type": "stream",
     "text": [
      "Dataloaders: (<torch.utils.data.dataloader.DataLoader object at 0x7f5c7d21a700>, <torch.utils.data.dataloader.DataLoader object at 0x7f5c7d21a9d0>)\n",
      "Length of train dataloader: 30 batches of 2048\n",
      "Length of test dataloader: 5 batches of 2048\n"
     ]
    }
   ],
   "source": [
    "print(f\"Dataloaders: {TrainLoader, TestLoader}\") \n",
    "print(f\"Length of train dataloader: {len(TrainLoader)} batches of {BATCH_SIZE}\")\n",
    "print(f\"Length of test dataloader: {len(TestLoader)} batches of {BATCH_SIZE}\")"
   ]
  },
  {
   "cell_type": "markdown",
   "metadata": {
    "id": "cZUeGzobq8Te"
   },
   "source": [
    "## 3. Creating the model\n",
    "Here, we will do an unusual thing: creating a model from scratch. Why unusual? Normally, you would want to start with a pre-trained model with pre-trained weights and only adapt the parts (normally the \"head\" - the last layer) of the model to the task at hand. We do not exactly know how the model really \"learn\", but there is a good chance that the early layers of the model pick up patterns that are also needed for our task. Take a look at the visualizations from this [paper](https://arxiv.org/abs/1311.2901): the early layers seem to pick up on edges, curves, and then circles, etc. which are kind of \"universal patterns\" in anything that you want to classify or generate. But well, I am getting ahead of myself, back to the model.\n",
    "\n",
    "Now, since this is routine, I will create the most basic neural network model: fully-connected neural networks with 3 hidden layers."
   ]
  },
  {
   "cell_type": "code",
   "execution_count": null,
   "metadata": {
    "id": "XHcrUmvHqoUO"
   },
   "outputs": [],
   "source": [
    "class BasicModel(nn.Module):\n",
    "    def __init__(self, input_shape: int, output_shape: int):\n",
    "        super().__init__()\n",
    "        self.classifier = nn.Sequential(\n",
    "            nn.Flatten(), # Flatten the image out\n",
    "            nn.Linear(in_features=input_shape, out_features=256),\n",
    "            nn.ReLU(),\n",
    "            nn.Linear(in_features=256, out_features=128),\n",
    "            nn.ReLU(),\n",
    "            nn.Linear(in_features=128, out_features=64),\n",
    "            nn.ReLU(),\n",
    "            nn.Linear(in_features=64, out_features=32),\n",
    "            nn.ReLU(),\n",
    "            nn.Linear(in_features=32, out_features=output_shape),\n",
    "            nn.ReLU()\n",
    "        )\n",
    "\n",
    "    def forward(self, x: torch.Tensor):\n",
    "        return self.classifier(x)"
   ]
  },
  {
   "cell_type": "markdown",
   "metadata": {
    "id": "K5iv7NGlzx5d"
   },
   "source": [
    "For the problem, we want to set `input_shape = 784`, as the dimensions for each image are 28*28, and `output_shape = len(class_names)`. This is a multiclass classification problem, so technically we will need to help a `softmax` last layer. However, it is better practice to output raw results (logits) and pass them into `softmax` later (the reason has to do with precision - go Google and Wikipedia, or probably just somewhere in the PyTorch documentation)."
   ]
  },
  {
   "cell_type": "code",
   "execution_count": null,
   "metadata": {
    "colab": {
     "base_uri": "https://localhost:8080/"
    },
    "id": "h9qJB1Yszo0d",
    "outputId": "a3c67973-5127-455a-e787-629585058684"
   },
   "outputs": [
    {
     "data": {
      "text/plain": [
       "device(type='cuda', index=0)"
      ]
     },
     "execution_count": 14,
     "metadata": {},
     "output_type": "execute_result"
    }
   ],
   "source": [
    "# Instantiate the model. Set the seed for reproducibility\n",
    "torch.manual_seed(17)\n",
    "\n",
    "model = BasicModel(input_shape = 784,\n",
    "                   output_shape = len(class_names)).to(device)\n",
    "next(model.parameters()).device"
   ]
  },
  {
   "cell_type": "markdown",
   "metadata": {
    "id": "UOdYoCu81jS1"
   },
   "source": [
    "## 4. Pick the loss function (criterion), optimizer, and metric\n"
   ]
  },
  {
   "cell_type": "code",
   "execution_count": null,
   "metadata": {
    "id": "rWXGg-Of1Sel"
   },
   "outputs": [],
   "source": [
    "criterion = nn.CrossEntropyLoss()\n",
    "optimizer = torch.optim.Adam(params=model.parameters(), \n",
    "                            lr=0.1)\n",
    "accuracy = Accuracy(task='multiclass', num_classes=len(class_names)).to(device)"
   ]
  },
  {
   "cell_type": "markdown",
   "metadata": {
    "id": "YKc51vzQ18OT"
   },
   "source": [
    "## 5. Training\n",
    "Training a model in PyTorch follows a pretty standard procedure. So much so that we can functionize the train and test step!\n"
   ]
  },
  {
   "cell_type": "code",
   "execution_count": null,
   "metadata": {
    "id": "T2qhzNFz1pp3"
   },
   "outputs": [],
   "source": [
    "def train_step(model: torch.nn.Module,\n",
    "               data_loader: torch.utils.data.DataLoader,\n",
    "               criterion: torch.nn.Module,\n",
    "               optimizer: torch.optim.Optimizer,\n",
    "               metric: Accuracy,\n",
    "               device: torch.device = device):\n",
    "    train_loss, train_acc = 0, 0\n",
    "    for batch, (X,y) in enumerate(data_loader):\n",
    "        X, y = X.to(device), y.to(device)\n",
    "        # 1. Forward pass\n",
    "        y_pred = model(X)\n",
    "\n",
    "        # 2. Calculate loss & accuracy\n",
    "        loss = criterion(y_pred, y)\n",
    "        train_loss += loss\n",
    "        train_acc += metric(y_pred.argmax(dim=1), y)\n",
    "\n",
    "        # 3. Empty out gradient\n",
    "        optimizer.zero_grad()\n",
    "\n",
    "        # 4. Backpropagation\n",
    "        loss.backward()\n",
    "\n",
    "        # 5. Optimize 1 step\n",
    "        optimizer.step()\n",
    "\n",
    "    train_loss /= len(data_loader)\n",
    "    train_acc /= len(data_loader)\n",
    "    print(f\"Train loss: {train_loss:.5f} | Train accuracy: {train_acc:.2f}\")"
   ]
  },
  {
   "cell_type": "code",
   "execution_count": null,
   "metadata": {
    "id": "xVko9cHQ3OaF"
   },
   "outputs": [],
   "source": [
    "def test_step(model: torch.nn.Module,\n",
    "               data_loader: torch.utils.data.DataLoader,\n",
    "               criterion: torch.nn.Module,\n",
    "               metric: Accuracy,\n",
    "               device: torch.device = device):\n",
    "    test_loss, acc = 0, 0\n",
    "    model.eval()\n",
    "    with torch.inference_mode():\n",
    "        for (X,y) in data_loader:\n",
    "            X, y = X.to(device), y.to(device)\n",
    "        # 1. Forward pass\n",
    "            y_pred = model(X)\n",
    "\n",
    "        # 2. Calculate loss & accuracy\n",
    "            test_loss += criterion(y_pred, y)\n",
    "            acc += metric(y_pred.argmax(dim=1), y)\n",
    "\n",
    "        test_loss /= len(data_loader)\n",
    "        acc /= len(data_loader)\n",
    "        print(f\"Test loss: {test_loss:.5f} | Test accuracy: {acc:.2f}\")"
   ]
  },
  {
   "cell_type": "code",
   "execution_count": null,
   "metadata": {
    "colab": {
     "base_uri": "https://localhost:8080/",
     "height": 188,
     "referenced_widgets": [
      "a9e400e94cc740fbaed6cf8d49ea87f6",
      "4c24e825a4c24768aad23e0cd46653cc",
      "dd236a946370455fa60f67500a8f24bf",
      "4a73be45b10542b1b14ae5d97e8b05ed",
      "3fff973f0a8f4bdd9de8817fca315bde",
      "680127b0731740f790a2594b7ce4c382",
      "f52382ef35114fd2b37d984a9db32fb9",
      "f81af3614abd481181a57ada3d9b752e",
      "5a7f892d1b40459d84a65df2c6c74b32",
      "337efe1705b247ae9f6713e4fbe0d997",
      "6ec09b9c655549b685a8fe65b3e4d265"
     ]
    },
    "id": "AGSuWR4J3dOU",
    "outputId": "71b3d7a0-c8f7-420a-9ed6-6254d78d71b6"
   },
   "outputs": [
    {
     "data": {
      "application/vnd.jupyter.widget-view+json": {
       "model_id": "a9e400e94cc740fbaed6cf8d49ea87f6",
       "version_major": 2,
       "version_minor": 0
      },
      "text/plain": [
       "  0%|          | 0/2 [00:00<?, ?it/s]"
      ]
     },
     "metadata": {},
     "output_type": "display_data"
    },
    {
     "name": "stdout",
     "output_type": "stream",
     "text": [
      "Epoch: 0\n",
      "---------\n",
      "Train loss: 8.50348 | Train accuracy: 0.15\n",
      "Test loss: 2.21395 | Test accuracy: 0.17\n",
      "Epoch: 1\n",
      "---------\n",
      "Train loss: 2.06660 | Train accuracy: 0.22\n",
      "Test loss: 2.18012 | Test accuracy: 0.18\n"
     ]
    }
   ],
   "source": [
    "# Check if function is defined correctly\n",
    "epochs = 2\n",
    "for epoch in tqdm(range(epochs)):\n",
    "    print(f\"Epoch: {epoch}\\n---------\")\n",
    "    train_step(data_loader=TrainLoader, \n",
    "        model=model, \n",
    "        criterion=criterion,\n",
    "        optimizer=optimizer,\n",
    "        metric=accuracy,\n",
    "        device=device\n",
    "    )\n",
    "    test_step(data_loader=TestLoader,\n",
    "        model=model,\n",
    "        criterion=criterion,\n",
    "        metric=accuracy,\n",
    "        device=device\n",
    "    )"
   ]
  },
  {
   "cell_type": "code",
   "execution_count": null,
   "metadata": {
    "colab": {
     "base_uri": "https://localhost:8080/",
     "height": 883,
     "referenced_widgets": [
      "0b9be8bda6f24896aa52b9734e169486",
      "afcfce141710469a9a58a472a03aed8a",
      "40ad8f3c28c547578d1838d3d0371c37",
      "bd60a39853f64a6cb66587d8ece434d8",
      "c8d8e69855fc4dcdb131c85e5604f18d",
      "a97202c42c05461ba8875a7cc95dbf88",
      "08996b51fb164925b4e273031a4ea37a",
      "7d9a48b916ce49b7a3657eedb728f74d",
      "3f1ba6c0361b4ab9933c49b616ef62ec",
      "e4a22dcc7e9d4ffaa325f9488761e8ab",
      "25c8b3736ace4704a99ba3b829caf1cd"
     ]
    },
    "id": "XMQrOwol3xol",
    "outputId": "927f77ee-6bae-4e62-98bd-37526a6a33ea"
   },
   "outputs": [
    {
     "data": {
      "application/vnd.jupyter.widget-view+json": {
       "model_id": "0b9be8bda6f24896aa52b9734e169486",
       "version_major": 2,
       "version_minor": 0
      },
      "text/plain": [
       "  0%|          | 0/12 [00:00<?, ?it/s]"
      ]
     },
     "metadata": {},
     "output_type": "display_data"
    },
    {
     "name": "stdout",
     "output_type": "stream",
     "text": [
      "Epoch: 0\n",
      "---------\n",
      "Train loss: 2.04674 | Train accuracy: 0.26\n",
      "Test loss: 2.33638 | Test accuracy: 0.14\n",
      "Epoch: 1\n",
      "---------\n",
      "Train loss: 2.09693 | Train accuracy: 0.25\n",
      "Test loss: 2.43485 | Test accuracy: 0.20\n",
      "Epoch: 2\n",
      "---------\n",
      "Train loss: 2.07174 | Train accuracy: 0.25\n",
      "Test loss: 2.11362 | Test accuracy: 0.20\n",
      "Epoch: 3\n",
      "---------\n",
      "Train loss: 1.99235 | Train accuracy: 0.26\n",
      "Test loss: 2.08018 | Test accuracy: 0.23\n",
      "Epoch: 4\n",
      "---------\n",
      "Train loss: 1.96704 | Train accuracy: 0.27\n",
      "Test loss: 2.10831 | Test accuracy: 0.24\n",
      "Epoch: 5\n",
      "---------\n",
      "Train loss: 2.78250 | Train accuracy: 0.26\n",
      "Test loss: 13.34397 | Test accuracy: 0.17\n",
      "Epoch: 6\n",
      "---------\n",
      "Train loss: 2.60214 | Train accuracy: 0.12\n",
      "Test loss: 2.30258 | Test accuracy: 0.10\n",
      "Epoch: 7\n",
      "---------\n",
      "Train loss: 2.30258 | Train accuracy: 0.10\n",
      "Test loss: 2.30258 | Test accuracy: 0.10\n",
      "Epoch: 8\n",
      "---------\n",
      "Train loss: 2.30258 | Train accuracy: 0.10\n",
      "Test loss: 2.30258 | Test accuracy: 0.10\n",
      "Epoch: 9\n",
      "---------\n",
      "Train loss: 2.30258 | Train accuracy: 0.10\n",
      "Test loss: 2.30258 | Test accuracy: 0.10\n",
      "Epoch: 10\n",
      "---------\n",
      "Train loss: 2.30258 | Train accuracy: 0.10\n",
      "Test loss: 2.30258 | Test accuracy: 0.10\n",
      "Epoch: 11\n",
      "---------\n",
      "Train loss: 2.30258 | Train accuracy: 0.10\n",
      "Test loss: 2.30258 | Test accuracy: 0.10\n"
     ]
    }
   ],
   "source": [
    "# Go big!\n",
    "epochs = 12\n",
    "for epoch in tqdm(range(epochs)):\n",
    "    print(f\"Epoch: {epoch}\\n---------\")\n",
    "    train_step(data_loader=TrainLoader, \n",
    "        model=model, \n",
    "        criterion=criterion,\n",
    "        optimizer=optimizer,\n",
    "        metric=accuracy,\n",
    "        device=device\n",
    "    )\n",
    "    test_step(data_loader=TestLoader,\n",
    "        model=model,\n",
    "        criterion=criterion,\n",
    "        metric=accuracy,\n",
    "        device=device\n",
    "    )"
   ]
  },
  {
   "cell_type": "markdown",
   "metadata": {
    "id": "fBYO0BkE4KuX"
   },
   "source": [
    "Uh oh, look like our model only peaked at roughly 20% accuracy and then regressed to random guesses! This is clearly overfitting! I will run it again back down to see if things get better with a smaller learning rate.\n",
    "\n",
    "But before that, let's use a little routine to empty out GPU RAM."
   ]
  },
  {
   "cell_type": "code",
   "execution_count": null,
   "metadata": {
    "id": "oL-4i-Rl4qOc"
   },
   "outputs": [],
   "source": [
    "gc.collect()\n",
    "torch.cuda.empty_cache()"
   ]
  },
  {
   "cell_type": "code",
   "execution_count": null,
   "metadata": {
    "id": "NdiF0xbE4uis"
   },
   "outputs": [],
   "source": [
    "model1 = BasicModel(input_shape = 784,\n",
    "                   output_shape = len(class_names)).to(device)\n",
    "optimizer = torch.optim.Adam(params=model1.parameters(), \n",
    "                            lr=0.01)"
   ]
  },
  {
   "cell_type": "code",
   "execution_count": null,
   "metadata": {
    "colab": {
     "base_uri": "https://localhost:8080/",
     "height": 883,
     "referenced_widgets": [
      "ed9e26a7c4e74844b11426ca4ca22312",
      "c18ca0b702a1448fa034c7739e091385",
      "28e3ce3cf9ba4f2cab452ec68ad8bf4a",
      "feab9715711443d5bfad57ab0b272627",
      "5bde7d2d11d84bcf9e5ad4bd6a67e023",
      "19e1b6c8989f422eb2a824fa8ec583c6",
      "4bdf00ac6cd642bc86399d0406ba9f43",
      "93c5058b41174410ac8f1aed52abf3ab",
      "4dd13e9e459f4666a1f42a776aa18dc0",
      "caedf3f5c72d48609e7750d4ec0fa1ae",
      "9f85836452a2489bb8b00fbe9c74c6aa"
     ]
    },
    "id": "fHqgBNya5GFl",
    "outputId": "0bae641d-b674-495c-e08e-7e4fc5683d2f"
   },
   "outputs": [
    {
     "data": {
      "application/vnd.jupyter.widget-view+json": {
       "model_id": "ed9e26a7c4e74844b11426ca4ca22312",
       "version_major": 2,
       "version_minor": 0
      },
      "text/plain": [
       "  0%|          | 0/12 [00:00<?, ?it/s]"
      ]
     },
     "metadata": {},
     "output_type": "display_data"
    },
    {
     "name": "stdout",
     "output_type": "stream",
     "text": [
      "Epoch: 0\n",
      "---------\n",
      "Train loss: 1.71525 | Train accuracy: 0.40\n",
      "Test loss: 1.64009 | Test accuracy: 0.42\n",
      "Epoch: 1\n",
      "---------\n",
      "Train loss: 1.21122 | Train accuracy: 0.54\n",
      "Test loss: 1.41001 | Test accuracy: 0.47\n",
      "Epoch: 2\n",
      "---------\n",
      "Train loss: 1.08863 | Train accuracy: 0.57\n",
      "Test loss: 1.31356 | Test accuracy: 0.50\n",
      "Epoch: 3\n",
      "---------\n",
      "Train loss: 1.04061 | Train accuracy: 0.58\n",
      "Test loss: 1.25006 | Test accuracy: 0.53\n",
      "Epoch: 4\n",
      "---------\n",
      "Train loss: 1.01216 | Train accuracy: 0.58\n",
      "Test loss: 1.23056 | Test accuracy: 0.52\n",
      "Epoch: 5\n",
      "---------\n",
      "Train loss: 0.98900 | Train accuracy: 0.59\n",
      "Test loss: 1.24966 | Test accuracy: 0.54\n",
      "Epoch: 6\n",
      "---------\n",
      "Train loss: 0.97788 | Train accuracy: 0.59\n",
      "Test loss: 1.29083 | Test accuracy: 0.54\n",
      "Epoch: 7\n",
      "---------\n",
      "Train loss: 0.97544 | Train accuracy: 0.59\n",
      "Test loss: 1.21861 | Test accuracy: 0.54\n",
      "Epoch: 8\n",
      "---------\n",
      "Train loss: 0.96460 | Train accuracy: 0.59\n",
      "Test loss: 1.25219 | Test accuracy: 0.54\n",
      "Epoch: 9\n",
      "---------\n",
      "Train loss: 0.96443 | Train accuracy: 0.59\n",
      "Test loss: 1.24812 | Test accuracy: 0.54\n",
      "Epoch: 10\n",
      "---------\n",
      "Train loss: 0.95962 | Train accuracy: 0.59\n",
      "Test loss: 1.25274 | Test accuracy: 0.54\n",
      "Epoch: 11\n",
      "---------\n",
      "Train loss: 0.95726 | Train accuracy: 0.59\n",
      "Test loss: 1.24894 | Test accuracy: 0.54\n"
     ]
    }
   ],
   "source": [
    "epochs = 12\n",
    "for epoch in tqdm(range(epochs)):\n",
    "    print(f\"Epoch: {epoch}\\n---------\")\n",
    "    train_step(data_loader=TrainLoader, \n",
    "        model=model1, \n",
    "        criterion=criterion,\n",
    "        optimizer=optimizer,\n",
    "        metric=accuracy,\n",
    "        device=device\n",
    "    )\n",
    "    test_step(data_loader=TestLoader,\n",
    "        model=model1,\n",
    "        criterion=criterion,\n",
    "        metric=accuracy,\n",
    "        device=device\n",
    "    )"
   ]
  },
  {
   "cell_type": "markdown",
   "metadata": {
    "id": "dkG_WNOT5anI"
   },
   "source": [
    "Better results, but our model still hits a plateau at 59% training accuracy and 54% testing accuracy, and if you check the test loss, you will see it fluctuate around 1.25... something. Let's try again with a different optimizer: `SGD`"
   ]
  },
  {
   "cell_type": "code",
   "execution_count": null,
   "metadata": {
    "id": "YUj8l03P5aQV"
   },
   "outputs": [],
   "source": [
    "gc.collect()\n",
    "torch.cuda.empty_cache()"
   ]
  },
  {
   "cell_type": "code",
   "execution_count": null,
   "metadata": {
    "id": "amlb_o6850Ct"
   },
   "outputs": [],
   "source": [
    "model2 = BasicModel(input_shape = 784,\n",
    "                   output_shape = len(class_names)).to(device)\n",
    "optimizer = torch.optim.SGD(params=model1.parameters(), \n",
    "                            lr=0.01)"
   ]
  },
  {
   "cell_type": "code",
   "execution_count": null,
   "metadata": {
    "colab": {
     "base_uri": "https://localhost:8080/",
     "height": 883,
     "referenced_widgets": [
      "3ae1bf223f904d26929d68d0e5e2f7e8",
      "07966c9acbdc429f9bdb91b4d5e2b5e2",
      "9d57e98ba91940e3b550570e1dc32651",
      "9a509b4c40df44baa24ebb4c6d670faf",
      "09614ec6e1ef4298bc79198033a4c44b",
      "a27d78659a2746b38229c7345964e5ba",
      "5ef1d6c0af9d4b558e461998c47acf6e",
      "107e1ac305124d20be4d076121fee005",
      "3022d06e5cf74e85b9603a9e01c378d9",
      "1a0b9c6fc4da43eea21d6b3ae9acb640",
      "7be3d23e777d4259bb6a28d52702e7c5"
     ]
    },
    "id": "xM57FWz758Jd",
    "outputId": "f2aa6a27-44e1-4188-b126-9d3c37a2e02f"
   },
   "outputs": [
    {
     "data": {
      "application/vnd.jupyter.widget-view+json": {
       "model_id": "3ae1bf223f904d26929d68d0e5e2f7e8",
       "version_major": 2,
       "version_minor": 0
      },
      "text/plain": [
       "  0%|          | 0/12 [00:00<?, ?it/s]"
      ]
     },
     "metadata": {},
     "output_type": "display_data"
    },
    {
     "name": "stdout",
     "output_type": "stream",
     "text": [
      "Epoch: 0\n",
      "---------\n",
      "Train loss: 2.30361 | Train accuracy: 0.10\n",
      "Test loss: 2.30377 | Test accuracy: 0.10\n",
      "Epoch: 1\n",
      "---------\n",
      "Train loss: 2.30357 | Train accuracy: 0.10\n",
      "Test loss: 2.30377 | Test accuracy: 0.10\n",
      "Epoch: 2\n",
      "---------\n",
      "Train loss: 2.30359 | Train accuracy: 0.10\n",
      "Test loss: 2.30377 | Test accuracy: 0.10\n",
      "Epoch: 3\n",
      "---------\n",
      "Train loss: 2.30355 | Train accuracy: 0.10\n",
      "Test loss: 2.30377 | Test accuracy: 0.10\n",
      "Epoch: 4\n",
      "---------\n",
      "Train loss: 2.30364 | Train accuracy: 0.10\n",
      "Test loss: 2.30377 | Test accuracy: 0.10\n",
      "Epoch: 5\n",
      "---------\n",
      "Train loss: 2.30356 | Train accuracy: 0.10\n",
      "Test loss: 2.30377 | Test accuracy: 0.10\n",
      "Epoch: 6\n",
      "---------\n",
      "Train loss: 2.30352 | Train accuracy: 0.10\n",
      "Test loss: 2.30377 | Test accuracy: 0.10\n",
      "Epoch: 7\n",
      "---------\n",
      "Train loss: 2.30354 | Train accuracy: 0.10\n",
      "Test loss: 2.30377 | Test accuracy: 0.10\n",
      "Epoch: 8\n",
      "---------\n",
      "Train loss: 2.30358 | Train accuracy: 0.10\n",
      "Test loss: 2.30377 | Test accuracy: 0.10\n",
      "Epoch: 9\n",
      "---------\n",
      "Train loss: 2.30362 | Train accuracy: 0.10\n",
      "Test loss: 2.30377 | Test accuracy: 0.10\n",
      "Epoch: 10\n",
      "---------\n",
      "Train loss: 2.30355 | Train accuracy: 0.10\n",
      "Test loss: 2.30377 | Test accuracy: 0.10\n",
      "Epoch: 11\n",
      "---------\n",
      "Train loss: 2.30360 | Train accuracy: 0.10\n",
      "Test loss: 2.30377 | Test accuracy: 0.10\n"
     ]
    }
   ],
   "source": [
    "epochs = 12\n",
    "for epoch in tqdm(range(epochs)):\n",
    "    print(f\"Epoch: {epoch}\\n---------\")\n",
    "    train_step(data_loader=TrainLoader, \n",
    "        model=model2, \n",
    "        criterion=criterion,\n",
    "        optimizer=optimizer,\n",
    "        metric=accuracy,\n",
    "        device=device\n",
    "    )\n",
    "    test_step(data_loader=TestLoader,\n",
    "        model=model2,\n",
    "        criterion=criterion,\n",
    "        metric=accuracy,\n",
    "        device=device\n",
    "    )"
   ]
  },
  {
   "cell_type": "markdown",
   "metadata": {
    "id": "BsdWl72W5-5E"
   },
   "source": [
    "Okay, disappointing result. But well, that is the spirit of hyperparameter tuning - experimenting to see what is the best set-up! But this is getting too long, so I will stop here. Now, `model1` seems to be the best choice so far, so let's use it for inference."
   ]
  },
  {
   "cell_type": "markdown",
   "metadata": {
    "id": "IhF67p-a6wMQ"
   },
   "source": [
    "## 6. Inference"
   ]
  },
  {
   "cell_type": "code",
   "execution_count": null,
   "metadata": {
    "colab": {
     "base_uri": "https://localhost:8080/",
     "height": 49,
     "referenced_widgets": [
      "e5a9469426534d2193cbfdfe5cdbf065",
      "3d3eb29e6ebb4c408859a9f79b142b5c",
      "3c72409c140e4c028092ced40538f779",
      "4c18ee43479942baa7d9647ac6aa04dd",
      "30bacb0f68cd4360b16b8a6546d367f0",
      "89388ad21146457b8f089abc84e42275",
      "45a9c3eaaff64b3da265baa16f1bd525",
      "6ca4d828238046638e6fb9bcbe227811",
      "d834b39d1fc04f679c6571bbab00d493",
      "1aaeebb46bb742c59e4ece774c0c4c66",
      "b477b52ce99f471c8d19ee6b00f47db5"
     ]
    },
    "id": "y9JBs7su59oQ",
    "outputId": "8abedec9-dcd1-4e84-e61c-013238ff04a5"
   },
   "outputs": [
    {
     "data": {
      "application/vnd.jupyter.widget-view+json": {
       "model_id": "e5a9469426534d2193cbfdfe5cdbf065",
       "version_major": 2,
       "version_minor": 0
      },
      "text/plain": [
       "Making predictions:   0%|          | 0/5 [00:00<?, ?it/s]"
      ]
     },
     "metadata": {},
     "output_type": "display_data"
    }
   ],
   "source": [
    "# 1. Making predictions with the trained model\n",
    "y_preds = []\n",
    "model1.eval()\n",
    "with torch.inference_mode():\n",
    "  for X, y in tqdm(TestLoader, desc=\"Making predictions\"):\n",
    "    # Send data and targets to target device\n",
    "    X, y = X.to(device), y.to(device)\n",
    "    # Do the forward pass\n",
    "    y_logit = model1(X)\n",
    "    # Turn predictions from logits -> prediction probabilities -> predictions labels\n",
    "    y_pred = torch.softmax(y_logit, dim=1).argmax(dim=1)\n",
    "    # Put predictions on CPU for evaluation\n",
    "    y_preds.append(y_pred.cpu())\n",
    "# Concatenate list of predictions into a tensor\n",
    "y_pred_tensor = torch.cat(y_preds)"
   ]
  },
  {
   "cell_type": "code",
   "execution_count": null,
   "metadata": {
    "colab": {
     "base_uri": "https://localhost:8080/",
     "height": 451
    },
    "id": "GDpK0G6968zc",
    "outputId": "643476fa-4c94-42bd-c01b-cea97c1f44c5"
   },
   "outputs": [
    {
     "data": {
      "image/png": "[encoded data removed]",
      "text/plain": [
       "<Figure size 720x504 with 1 Axes>"
      ]
     },
     "metadata": {
      "needs_background": "light"
     },
     "output_type": "display_data"
    }
   ],
   "source": [
    "# 2. Setup confusion matrix instance and compare predictions to targets\n",
    "confmat = ConfusionMatrix(num_classes=len(class_names), task='multiclass')\n",
    "confmat_tensor = confmat(preds=y_pred_tensor,\n",
    "                         target=test_data.targets)\n",
    "\n",
    "# 3. Plot the confusion matrix\n",
    "fig, ax = plot_confusion_matrix(\n",
    "    conf_mat=confmat_tensor.numpy(), # matplotlib likes working with NumPy\n",
    "    class_names = class_names, # turn the row and column labels into class names\n",
    "    figsize=(10, 7)\n",
    ");"
   ]
  },
  {
   "cell_type": "markdown",
   "metadata": {
    "id": "r7LiN3gN7H9c"
   },
   "source": [
    "I am not familiar with Kanji characters, but I think we should take a look at the 'na', 'ha', 'ma', 'wo' and 'o' characters, which are really alike in the pictures, and think of ways to help our model. However, that is outside the scope of this routine notebook, so I will stop here. Hope your, reader, is familiar with the PyTorch routine by now, and thank you for reading!"
   ]
  }
 ],
 "metadata": {
  "accelerator": "GPU",
  "colab": {
   "provenance": []
  },
  "gpuClass": "standard",
  "kernelspec": {
   "display_name": "Python 3 (ipykernel)",
   "language": "python",
   "name": "python3"
  },
  "language_info": {
   "codemirror_mode": {
    "name": "ipython",
    "version": 3
   },
   "file_extension": ".py",
   "mimetype": "text/x-python",
   "name": "python",
   "nbconvert_exporter": "python",
   "pygments_lexer": "ipython3",
   "version": "3.9.7"
  }
 },
 "nbformat": 4,
 "nbformat_minor": 1
}
